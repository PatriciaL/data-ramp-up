{
 "cells": [
  {
   "cell_type": "markdown",
   "metadata": {},
   "source": [
    "# Test DS-FT"
   ]
  },
  {
   "cell_type": "code",
   "execution_count": 20,
   "metadata": {},
   "outputs": [],
   "source": [
    "# Escribe tu nombre y apellidos (apellido si solo tienes uno) en la variable:\n",
    "nombre_y_apellidos = \"Patricia Lafuente Estrada\" \n",
    "# Correo electrónico\n",
    "correo_electronico = \"p.lafuente.est@gmail.com\""
   ]
  },
  {
   "cell_type": "code",
   "execution_count": null,
   "metadata": {},
   "outputs": [],
   "source": [
    "# Ejemplo de como queremos ver el código para más de un intento:\n",
    "\n",
    "# intento 1\n",
    "your code\n",
    "# intento 2\n",
    "your code"
   ]
  },
  {
   "cell_type": "markdown",
   "metadata": {},
   "source": [
    "### Ejercicio 1 (1 punto)\n",
    "En este ejercicio se va a crear una lista con los siguientes elementos. Primero, crearemos las variables que luego añadiremos a la lista. Las variables son las siguientes:\n",
    "\n",
    "1. Crea una variable llamada `edad` de tipo Integer que represente tu edad en años. \n",
    "2. Crea una variable llamada `nombre` de tipo String , concatenando tu nombre seguido de un espacio en blanco y la inicial de tu primer apellido a partir de la variable `nombre_y_apellidos`.\n",
    "3. Crea una variable llamada `altura` con el valor de tu altura en metros de tipo float.\n",
    "4. Crea una variable llamada `tipo_ord` de tipo Boolean True si usas Windows y False si usas Mac.\n",
    "5. Crea una variable llamada `nada` de tipo None cuyo valor sea None.\n",
    "6. Crea una variable llamada `lista_series` de tipo List que contenga las 5 series de TV que más te gusten. Cada elemento ha de ser de tipo String.\n",
    "7. Crea una variable llamada `tupla_ropa` de tipo Tuple con la marca de la prenda superior, inferior y calzado que llevas puesto.\n",
    "8. Crea una variable llamada `dict_info` con dos keys y dos values. Una key es `ciudad`, teniendo como value la ciudad en la que vives. Otra key es `portal`, teniendo como value el número de tu calle.\n",
    "9. Añade todos estos elementos en una lista llamada `lista_examen` en el orden de aparición **usando una función de lista**. \n",
    "10. Responde en un comentario a la siguiente pregunta: Si `lista_examen` tuviera 10 veces más elementos, ¿cómo te asegurarías de que no tiene ningún elemento repetido?\n"
   ]
  },
  {
   "cell_type": "markdown",
   "metadata": {},
   "source": [
    "*###RESOLUCION DE EJERCICIO 1###*"
   ]
  },
  {
   "cell_type": "code",
   "execution_count": 95,
   "metadata": {},
   "outputs": [
    {
     "name": "stdout",
     "output_type": "stream",
     "text": [
      "<class 'int'>\n",
      "<class 'str'>\n",
      "<class 'float'>\n",
      "<class 'bool'>\n",
      "<class 'NoneType'>\n",
      "<class 'list'>\n",
      "<class 'tuple'>\n",
      "<class 'dict'>\n"
     ]
    }
   ],
   "source": [
    "#Por cada variable vamos a añadir un printeo por pantalla con el tipo de la variable\n",
    "#Para confirmar que es correcto de acuerdo a las instrucciones\n",
    "\n",
    "\n",
    "\n",
    "#1. Crea una variable llamada `edad` de tipo Integer que represente tu edad en años. \n",
    "edad = 35\n",
    "print(type(edad))\n",
    "\n",
    "#2. Crea una variable llamada `nombre` de tipo String , concatenando tu nombre seguido de un espacio en blanco y la inicial de tu primer apellido a partir de la variable `nombre_y_apellidos`.\n",
    "\n",
    "nombre = \"Patricia\" + \" \" + nombre_y_apellidos[9:10]\n",
    "print(type(nombre))\n",
    "\n",
    "#3. Crea una variable llamada `altura` con el valor de tu altura en metros de tipo float.\n",
    "\n",
    "altura = 1.54\n",
    "print(type(altura))\n",
    "\n",
    "#4. Crea una variable llamada `tipo_ord` de tipo Boolean True si usas Windows y False si usas Mac.\n",
    "\n",
    "tipo_ord =  True\n",
    "print(type(tipo_ord))\n",
    "\n",
    "#5. Crea una variable llamada `nada` de tipo None cuyo valor sea None.\n",
    "\n",
    "nada = None\n",
    "print(type(nada))\n",
    "\n",
    "#6. Crea una variable llamada `lista_series` de tipo List que contenga las 5 series de TV que más te gusten. Cada elemento ha de ser de tipo String.\n",
    "lista_series = [\"Game of Thrones\",\"WandaVision\",\"Downtown Abbey\",\"The White Queen\", \"La Guerra de las Dos Rosas\"]\n",
    "print(type(lista_series))\n",
    "\n",
    "#7. Crea una variable llamada `tupla_ropa` de tipo Tuple con la marca de la prenda superior, inferior y calzado que llevas puesto.\n",
    "\n",
    "tupla_ropa = (\"Only\",\"Stradivarius\",\"Nok\")\n",
    "print(type(tupla_ropa))\n",
    "\n",
    "#8. Crea una variable llamada `dict_info` con dos keys y dos values. Una key es `ciudad`, teniendo como value la ciudad en la que vives. Otra key es `portal`, teniendo como value el número de tu calle.\n",
    "dict_info = {'Ciudad':'Barcelona',\n",
    " 'Portal':25}\n",
    "print(type(dict_info))\n",
    "\n"
   ]
  },
  {
   "cell_type": "markdown",
   "metadata": {},
   "source": [
    "####RESOLUCION DE APENDICE 9 DEL EJERCICIO 1####"
   ]
  },
  {
   "cell_type": "code",
   "execution_count": 176,
   "metadata": {},
   "outputs": [
    {
     "name": "stdout",
     "output_type": "stream",
     "text": [
      "['Patricia L', 35, 1.54, True, None, ['Game of Thrones', 'WandaVision', 'Downtown Abbey', 'The White Queen', 'La Guerra de las Dos Rosas'], ('Only', 'Stradivarius', 'Nok'), {'Ciudad': 'Barcelona', 'Portal': 25}]\n"
     ]
    }
   ],
   "source": [
    "#9. Añade todos estos elementos en una lista llamada `lista_examen` en el orden de aparición **usando una función de lista**. \n",
    "\n",
    "lista_examen = list() \n",
    "\n",
    "#Resolucion_1  Declaramos una lista vacia para luego ir apendando los elementos mediante el método append\n",
    "\n",
    "lista_examen.append(nombre)\n",
    "lista_examen.append(edad)\n",
    "lista_examen.append(altura)\n",
    "lista_examen.append(tipo_ord)\n",
    "lista_examen.append(nada)\n",
    "lista_examen.append(lista_series)\n",
    "lista_examen.append(tupla_ropa)\n",
    "lista_examen.append(dict_info)\n",
    "\n",
    "\n",
    "print(lista_examen)"
   ]
  },
  {
   "cell_type": "code",
   "execution_count": 97,
   "metadata": {},
   "outputs": [
    {
     "name": "stdout",
     "output_type": "stream",
     "text": [
      "['Patricia L', 35, 1.54, True, None, ['Game of Thrones', 'WandaVision', 'Downtown Abbey', 'The White Queen', 'La Guerra de las Dos Rosas'], ('Only', 'Stradivarius', 'Nok'), {'Ciudad': 'Barcelona', 'Portal': 25}]\n"
     ]
    }
   ],
   "source": [
    "lista_examen_2 = list() \n",
    "\n",
    "#Resolucion_2  Declaramos una lista vacia para luego ir añadiendo los elementos en el orden que queremos metiante el metodo variable.insert(pos, x)\n",
    "lista_examen_2.insert(1,nombre)\n",
    "lista_examen_2.insert(2,edad)\n",
    "lista_examen_2.insert(3,altura)\n",
    "lista_examen_2.insert(4,tipo_ord)\n",
    "lista_examen_2.insert(5,nada)\n",
    "lista_examen_2.insert(6,lista_series)\n",
    "lista_examen_2.insert(7,tupla_ropa)\n",
    "lista_examen_2.insert(8,dict_info)\n",
    "\n",
    "\n",
    "print(lista_examen_2)"
   ]
  },
  {
   "cell_type": "markdown",
   "metadata": {},
   "source": [
    "####RESOLUCION DEL APENDICE 10 DEL EJERCICIO 1 ####\n",
    "\n",
    "#Podemos utilizar la funcion built-in de python \"set\" que de acuerdo a la opción de ayuda, aplicada en la siguiente celda \n",
    "\" Build an unordered collection of unique elements\"\n",
    "\n",
    "\n"
   ]
  },
  {
   "cell_type": "code",
   "execution_count": 98,
   "metadata": {},
   "outputs": [
    {
     "name": "stdout",
     "output_type": "stream",
     "text": [
      "Help on class set in module builtins:\n",
      "\n",
      "class set(object)\n",
      " |  set() -> new empty set object\n",
      " |  set(iterable) -> new set object\n",
      " |  \n",
      " |  Build an unordered collection of unique elements.\n",
      " |  \n",
      " |  Methods defined here:\n",
      " |  \n",
      " |  __and__(self, value, /)\n",
      " |      Return self&value.\n",
      " |  \n",
      " |  __contains__(...)\n",
      " |      x.__contains__(y) <==> y in x.\n",
      " |  \n",
      " |  __eq__(self, value, /)\n",
      " |      Return self==value.\n",
      " |  \n",
      " |  __ge__(self, value, /)\n",
      " |      Return self>=value.\n",
      " |  \n",
      " |  __getattribute__(self, name, /)\n",
      " |      Return getattr(self, name).\n",
      " |  \n",
      " |  __gt__(self, value, /)\n",
      " |      Return self>value.\n",
      " |  \n",
      " |  __iand__(self, value, /)\n",
      " |      Return self&=value.\n",
      " |  \n",
      " |  __init__(self, /, *args, **kwargs)\n",
      " |      Initialize self.  See help(type(self)) for accurate signature.\n",
      " |  \n",
      " |  __ior__(self, value, /)\n",
      " |      Return self|=value.\n",
      " |  \n",
      " |  __isub__(self, value, /)\n",
      " |      Return self-=value.\n",
      " |  \n",
      " |  __iter__(self, /)\n",
      " |      Implement iter(self).\n",
      " |  \n",
      " |  __ixor__(self, value, /)\n",
      " |      Return self^=value.\n",
      " |  \n",
      " |  __le__(self, value, /)\n",
      " |      Return self<=value.\n",
      " |  \n",
      " |  __len__(self, /)\n",
      " |      Return len(self).\n",
      " |  \n",
      " |  __lt__(self, value, /)\n",
      " |      Return self<value.\n",
      " |  \n",
      " |  __ne__(self, value, /)\n",
      " |      Return self!=value.\n",
      " |  \n",
      " |  __or__(self, value, /)\n",
      " |      Return self|value.\n",
      " |  \n",
      " |  __rand__(self, value, /)\n",
      " |      Return value&self.\n",
      " |  \n",
      " |  __reduce__(...)\n",
      " |      Return state information for pickling.\n",
      " |  \n",
      " |  __repr__(self, /)\n",
      " |      Return repr(self).\n",
      " |  \n",
      " |  __ror__(self, value, /)\n",
      " |      Return value|self.\n",
      " |  \n",
      " |  __rsub__(self, value, /)\n",
      " |      Return value-self.\n",
      " |  \n",
      " |  __rxor__(self, value, /)\n",
      " |      Return value^self.\n",
      " |  \n",
      " |  __sizeof__(...)\n",
      " |      S.__sizeof__() -> size of S in memory, in bytes\n",
      " |  \n",
      " |  __sub__(self, value, /)\n",
      " |      Return self-value.\n",
      " |  \n",
      " |  __xor__(self, value, /)\n",
      " |      Return self^value.\n",
      " |  \n",
      " |  add(...)\n",
      " |      Add an element to a set.\n",
      " |      \n",
      " |      This has no effect if the element is already present.\n",
      " |  \n",
      " |  clear(...)\n",
      " |      Remove all elements from this set.\n",
      " |  \n",
      " |  copy(...)\n",
      " |      Return a shallow copy of a set.\n",
      " |  \n",
      " |  difference(...)\n",
      " |      Return the difference of two or more sets as a new set.\n",
      " |      \n",
      " |      (i.e. all elements that are in this set but not the others.)\n",
      " |  \n",
      " |  difference_update(...)\n",
      " |      Remove all elements of another set from this set.\n",
      " |  \n",
      " |  discard(...)\n",
      " |      Remove an element from a set if it is a member.\n",
      " |      \n",
      " |      If the element is not a member, do nothing.\n",
      " |  \n",
      " |  intersection(...)\n",
      " |      Return the intersection of two sets as a new set.\n",
      " |      \n",
      " |      (i.e. all elements that are in both sets.)\n",
      " |  \n",
      " |  intersection_update(...)\n",
      " |      Update a set with the intersection of itself and another.\n",
      " |  \n",
      " |  isdisjoint(...)\n",
      " |      Return True if two sets have a null intersection.\n",
      " |  \n",
      " |  issubset(...)\n",
      " |      Report whether another set contains this set.\n",
      " |  \n",
      " |  issuperset(...)\n",
      " |      Report whether this set contains another set.\n",
      " |  \n",
      " |  pop(...)\n",
      " |      Remove and return an arbitrary set element.\n",
      " |      Raises KeyError if the set is empty.\n",
      " |  \n",
      " |  remove(...)\n",
      " |      Remove an element from a set; it must be a member.\n",
      " |      \n",
      " |      If the element is not a member, raise a KeyError.\n",
      " |  \n",
      " |  symmetric_difference(...)\n",
      " |      Return the symmetric difference of two sets as a new set.\n",
      " |      \n",
      " |      (i.e. all elements that are in exactly one of the sets.)\n",
      " |  \n",
      " |  symmetric_difference_update(...)\n",
      " |      Update a set with the symmetric difference of itself and another.\n",
      " |  \n",
      " |  union(...)\n",
      " |      Return the union of sets as a new set.\n",
      " |      \n",
      " |      (i.e. all elements that are in either set.)\n",
      " |  \n",
      " |  update(...)\n",
      " |      Update a set with the union of itself and others.\n",
      " |  \n",
      " |  ----------------------------------------------------------------------\n",
      " |  Static methods defined here:\n",
      " |  \n",
      " |  __new__(*args, **kwargs) from builtins.type\n",
      " |      Create and return a new object.  See help(type) for accurate signature.\n",
      " |  \n",
      " |  ----------------------------------------------------------------------\n",
      " |  Data and other attributes defined here:\n",
      " |  \n",
      " |  __hash__ = None\n",
      "\n"
     ]
    }
   ],
   "source": [
    "help(set)"
   ]
  },
  {
   "cell_type": "markdown",
   "id": "ff4becae-86c4-46ab-9e09-3aeec5296700",
   "metadata": {},
   "source": [
    "### Ejercicio 2 (2 puntos)\n",
    "\n",
    "Para resolver este ejercicio necesitarás la lista del ejercicio anterior (`lista_examen`). Se recomienda leer cada punto hasta el final antes de resolver el ejercicio.\n",
    "\n",
    "Se repite para que quede aún más claro: **SOLO USAR LA VARIABLE** `lista_examen`. Usar las demás variables se calificará como error.  \n",
    "\n",
    "Mostrar por pantalla, sin uso de funciones (puedes usar print) ni bucles: \n",
    "- Un mensaje de presentación con tu nombre y edad\n",
    "- Un mensaje de presentación con tu nombre y edad a partir del diccionario\n",
    "- La segunda serie de TV y la penúltima contando por atrás.\n",
    "- La marca de tu calzado.\n",
    "- Si tu altura es menor que 1.80, muestra la marca de tu calzado, si no, la de tu prenda superior\n",
    "- Si la inicial de tu ciudad y de tu nombre son una consonante, mostrar la ciudad y tu nombre, si no,muestra solo la ciudad.  \n",
    "\n",
    "Mostrar por pantalla, con uso de un bucle `for`:\n",
    "- Todos los elementos de `lista_examen`.\n",
    "- Todos los elementos de `lista_examen` al revés\n",
    "- Todos aquellos elementos que se encuentren dentro de otra colección ordenada y ocupen un índice impar\n",
    "- La ciudad si coincide dentro de una lista_de_ciudades = [\"Barcelona\",\"Madrid\"], si no \"ciudad no encontrada\"  \n",
    "\n",
    "Con uso del bucle while, borra las series de TV por la cola hasta que tengas 2 series y guarda esas series borradas en una nueva lista `series_borradas`.  \n",
    "\n",
    "Añade esas series que has borrado en la mitad de la lista de tus series.\n",
    "    \n",
    "\n",
    "    "
   ]
  },
  {
   "cell_type": "markdown",
   "metadata": {},
   "source": [
    "###RESOLUCION DEL APENDICE 1 DEL EJERCICIO 2 ###"
   ]
  },
  {
   "cell_type": "markdown",
   "metadata": {},
   "source": [
    "Mostrar por pantalla, sin uso de funciones (puedes usar print) ni bucles: \n",
    "- Un mensaje de presentación con tu nombre y edad\n",
    "- Un mensaje de presentación con tu nombre y edad a partir del diccionario\n",
    "- La segunda serie de TV y la penúltima contando por atrás.\n",
    "- La marca de tu calzado.\n",
    "- Si tu altura es menor que 1.80, muestra la marca de tu calzado, si no, la de tu prenda superior\n",
    "- Si la inicial de tu ciudad y de tu nombre son una consonante, mostrar la ciudad y tu nombre, si no,muestra solo la ciudad.  "
   ]
  },
  {
   "cell_type": "code",
   "execution_count": 99,
   "metadata": {},
   "outputs": [
    {
     "name": "stdout",
     "output_type": "stream",
     "text": [
      "Hola, encantada de saludarte soy: Patricia L y tengo: 35 años. ¿Tú como te llamas?\n"
     ]
    }
   ],
   "source": [
    "#1 Imprimir por pantalla: un mensaje de presentacion con tu nombre y edad\n",
    "print(\"Hola, encantada de saludarte soy:\", lista_examen[0], \"y tengo:\", lista_examen[1], \"años. ¿Tú como te llamas?\")"
   ]
  },
  {
   "cell_type": "code",
   "execution_count": 100,
   "metadata": {},
   "outputs": [
    {
     "name": "stdout",
     "output_type": "stream",
     "text": [
      "Hola, encantada de saludarte soy: Patricia L y tengo: 35 años. ¿Tú como te llamas?\n"
     ]
    }
   ],
   "source": [
    "#2 Imprimir por pantalla: un mensaje de presentacion con tu nombre y edad, apartir del diccionario\n",
    "\n",
    "\n",
    "#Definimos un diccionario que tenga nombre y edad a partir de la lista anterior\n",
    "\n",
    "lista_examen_dict = {1:nombre, 2:edad}\n",
    "\n",
    "#Comprobamos la longitud del diccionario creado, que solo tiene dos elementos nombre y edad\n",
    "len(lista_examen_dict)\n",
    "\n",
    "#Imprimos por pantalla del diccionario indicando unicamente el key de la posicion dentro del diccionario\n",
    "\n",
    "print(\"Hola, encantada de saludarte soy:\", lista_examen_dict[1], \"y tengo:\", lista_examen_dict[2], \"años. ¿Tú como te llamas?\")\n",
    "#len(lista_examen_dict[1])"
   ]
  },
  {
   "cell_type": "code",
   "execution_count": 125,
   "metadata": {},
   "outputs": [
    {
     "name": "stdout",
     "output_type": "stream",
     "text": [
      "Mi serie favorita que ocupa la segunda posicion es: WandaVision y la penúltima empezando por atrás es: The White Queen\n"
     ]
    }
   ],
   "source": [
    " #Imprimir por pantalla La segunda serie de TV y la penúltima contando por atrás de la lista lista_examen \n",
    " #Recordamos los valores de la lista_series = [\"Game of Thrones\",\"WandaVision\",\"Downtown Abbey\",\"The White Queen\", \"La Guerra de las Dos Rosas\"]\n",
    " #Añadimos unos verbatims string \"\" para dar contexto al ejercicio\n",
    " print(\"Mi serie favorita que ocupa la segunda posicion es:\", lista_examen[5][1], \"y la penúltima, empezando por atrás es:\",lista_examen[5][-2])"
   ]
  },
  {
   "cell_type": "code",
   "execution_count": 132,
   "metadata": {},
   "outputs": [
    {
     "name": "stdout",
     "output_type": "stream",
     "text": [
      "El calzado que llevo hoy es de la marca: Nok .Son unas chanclas de playa muy cómodas\n"
     ]
    }
   ],
   "source": [
    "#Imprimir por pantalla La marca de tu calzado.\n",
    "print(\"El calzado que llevo hoy es de la marca:\", lista_examen[6][2], \".Son unas chanclas de playa muy cómodas\")\n"
   ]
  },
  {
   "cell_type": "code",
   "execution_count": 140,
   "metadata": {},
   "outputs": [
    {
     "name": "stdout",
     "output_type": "stream",
     "text": [
      "Como mi altura es inferior a 1.80, mi marca de calzado es: Nok\n"
     ]
    }
   ],
   "source": [
    "#Imprimir por pantalla la siguiente condicion \"Si tu altura es menor que 1.80, muestra la marca de tu calzado, si no, la de tu prenda superior\"\n",
    "\n",
    "if lista_examen[2] < 1.80:\n",
    "    print(\"Como mi altura es inferior a 1.80, mi marca de calzado es:\", lista_examen[6][2])\n",
    "else:\n",
    "    print(\"Si mi altura fuera superior 1.80, la marca de mi prenda superior es:\",lista_examen[6][1])"
   ]
  },
  {
   "cell_type": "markdown",
   "metadata": {},
   "source": [
    "###pendiente de hacer###"
   ]
  },
  {
   "cell_type": "code",
   "execution_count": 145,
   "metadata": {},
   "outputs": [
    {
     "name": "stdout",
     "output_type": "stream",
     "text": [
      "Si mi altura fuera superior 1.80, la marca de mi prenda superior es: Stradivarius\n"
     ]
    }
   ],
   "source": [
    "#Si la inicial de tu ciudad y de tu nombre son una consonante, mostrar la ciudad y tu nombre, si no,muestra solo la ciudad. \n",
    "\n",
    " \n",
    "if lista_examen[7][1] == \"Barcelona\":\n",
    "    print(\"La inicial de mi ciudad y de mi nombre es una consonante:\",lista_examen[8:1])\n",
    "else:\n",
    "    print(\"Si mi altura fuera superior 1.80, la marca de mi prenda superior es:\",lista_examen[6][1])\n",
    "\n"
   ]
  },
  {
   "cell_type": "code",
   "execution_count": 172,
   "metadata": {},
   "outputs": [
    {
     "ename": "SyntaxError",
     "evalue": "invalid syntax (4060830099.py, line 8)",
     "output_type": "error",
     "traceback": [
      "\u001b[1;36m  File \u001b[1;32m\"C:\\Users\\plafu\\AppData\\Local\\Temp\\ipykernel_23688\\4060830099.py\"\u001b[1;36m, line \u001b[1;32m8\u001b[0m\n\u001b[1;33m    print lista_examen[7].values(0:1)\u001b[0m\n\u001b[1;37m                     ^\u001b[0m\n\u001b[1;31mSyntaxError\u001b[0m\u001b[1;31m:\u001b[0m invalid syntax\n"
     ]
    }
   ],
   "source": [
    ",#print(lista_examen[7].values())\n",
    "\n",
    "#if lista_examen[7].values() == \"Barcelona\":\n",
    "    #print(\"Hola\")\n",
    "#else:\n",
    "    #print(\"Adios\")\n",
    "\n",
    "print lista_examen[7].values(0:1)"
   ]
  },
  {
   "cell_type": "markdown",
   "metadata": {},
   "source": [
    "###RESOLUCION DEL APENDICE 2 DEL EJERCICIO 2###"
   ]
  },
  {
   "cell_type": "code",
   "execution_count": 193,
   "metadata": {},
   "outputs": [
    {
     "name": "stdout",
     "output_type": "stream",
     "text": [
      "Patricia L\n",
      "35\n",
      "1.54\n",
      "True\n",
      "None\n",
      "['Game of Thrones', 'WandaVision', 'Downtown Abbey', 'The White Queen', 'La Guerra de las Dos Rosas']\n",
      "('Only', 'Stradivarius', 'Nok')\n",
      "{'Ciudad': 'Barcelona', 'Portal': 25}\n",
      "{'Ciudad': 'Barcelona', 'Portal': 25}\n",
      "('Only', 'Stradivarius', 'Nok')\n",
      "['Game of Thrones', 'WandaVision', 'Downtown Abbey', 'The White Queen', 'La Guerra de las Dos Rosas']\n",
      "None\n",
      "True\n",
      "1.54\n",
      "35\n",
      "Patricia L\n"
     ]
    }
   ],
   "source": [
    "#Mostrar por pantalla, con uso de un bucle `for`:\n",
    "\n",
    "#1 Todos los elementos de `lista_examen`.\n",
    "\n",
    "for i in lista_examen:\n",
    "    print(i) \n",
    "\n",
    "\n",
    "#2 Todos los elementos de `lista_examen` al revés\n",
    "\n",
    "for j in reversed(lista_examen):\n",
    "    print(j)\n",
    "\n",
    "#3 Todos aquellos elementos que se encuentren dentro de otra colección ordenada y ocupen un índice impar\n",
    "\n",
    "\n",
    "#4 La ciudad si coincide dentro de una lista_de_ciudades = [\"Barcelona\",\"Madrid\"], si no \"ciudad no encontrada\" \n",
    "    \n",
    "\n"
   ]
  },
  {
   "cell_type": "code",
   "execution_count": 190,
   "metadata": {},
   "outputs": [
    {
     "name": "stdout",
     "output_type": "stream",
     "text": [
      "Patricia L\n",
      "35\n",
      "1.54\n",
      "True\n",
      "None\n",
      "['Game of Thrones', 'WandaVision', 'Downtown Abbey', 'The White Queen', 'La Guerra de las Dos Rosas']\n",
      "('Only', 'Stradivarius', 'Nok')\n",
      "{'Ciudad': 'Barcelona', 'Portal': 25}\n"
     ]
    }
   ],
   "source": []
  },
  {
   "cell_type": "markdown",
   "metadata": {},
   "source": [
    "### Ejercicio 3 (2 puntos)\n",
    "\n",
    "#### Crear un programa que calcule la cuota de una hipoteca\n",
    "\n",
    "Las cuotas hipotecarias se calculan utilizando la fórmula del interés frances. \n",
    "\n",
    "La formula del interés frances es la siguiente:\n",
    "\\begin{align*}\n",
    "C=V \\frac{(1+i)^n i}{(1+i)^n -1}\n",
    "\\end{align*}\n",
    "\n",
    "\n",
    "    C = Cuota a pagar (mensual)\n",
    "    V = Cantidad del préstamo hipotecario\n",
    "    i = tipo de interés del período (mensual)\n",
    "    n = número de cuotas (mensual)\n",
    "\n",
    "1. Crea un programa que solicite al usuario los datos de su hipoteca (cantidad, interés **anual**, y plazo en **años**) y le devuelva la cuota **mensual** a pagar **sin funciones**.\n",
    "2. Calcula la cuota si la cantidad de la hipoteca son 250000 euros, el interés anual es del 3% y la quiere pagar en 20 años.\n",
    "3. Crea una función `calc_cuota_hip` que realiza el cálculo y cuyos argumentos sean `cantidad_euros`, `interes_anual` y `anios_pago`.\n",
    "4. Crea una función `calc_cuota_hip_noargs` que realice el mismo cálculo pero sin argumentos de entrada y que contenga otra función dentro `recoger_datos_usuario` que recoja los datos del usuario.\n"
   ]
  },
  {
   "cell_type": "code",
   "execution_count": null,
   "metadata": {},
   "outputs": [],
   "source": []
  },
  {
   "cell_type": "markdown",
   "metadata": {},
   "source": [
    "### Ejercicio 4 (2 puntos)\n",
    "\n",
    "1. Crea una clase \"Humano\" que tenga 4 atributos: \"ojos\"(int default 2), \"edad\"(int), \"altura\"(float) y \"nombre\"(str). Además, debe contar con dos métodos: \n",
    "\n",
    "- \"cumplir_edad\": al llamar a este método se debe sumar 1 al atributo edad del humano y que retorne la edad actualizada. \n",
    "- \"registro_nombre\" que recibe parametro \"nuevo_nombre\": al llamar a esta función con un parámetro de entrada, este método debe cambiar el nombre del humano por el \"nuevo_nombre\" y sin retornar nada\n",
    "\n",
    "2. Crea un humano llamado \"Cojoncio\" que tiene el doble de tu de edad (a partir de la variable `lista_examen`) y mide 10 centímetros menos que tu altura (a partir de la variable `lista_examen`). A \"Cojoncio\" nunca le gustó su nombre. Por eso, usa el método correspondiente para cambiarle su nombre por \"Goku\". Además, hoy es su cumpleaños por lo que usa el método correspondiente para aumentar su edad. Muestra tanto el nombre como la edad antes y después ejecutar los métodos.\n",
    "\n",
    "\n",
    "3. Documenta la clase con el estilo de Google\n"
   ]
  },
  {
   "cell_type": "code",
   "execution_count": null,
   "metadata": {},
   "outputs": [],
   "source": []
  }
 ],
 "metadata": {
  "interpreter": {
   "hash": "c8fd5b8885bd234006b7573d684c8f0039d17035868eb9e6d47729eafa79c24c"
  },
  "kernelspec": {
   "display_name": "Python 3.7.4 64-bit",
   "language": "python",
   "name": "python3"
  },
  "language_info": {
   "codemirror_mode": {
    "name": "ipython",
    "version": 3
   },
   "file_extension": ".py",
   "mimetype": "text/x-python",
   "name": "python",
   "nbconvert_exporter": "python",
   "pygments_lexer": "ipython3",
   "version": "3.7.4"
  },
  "orig_nbformat": 4
 },
 "nbformat": 4,
 "nbformat_minor": 2
}
