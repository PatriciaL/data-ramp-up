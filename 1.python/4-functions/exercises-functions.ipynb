{
 "cells": [
  {
   "cell_type": "markdown",
   "metadata": {},
   "source": [
    "![imagen](./img/ejercicios.png)"
   ]
  },
  {
   "cell_type": "markdown",
   "metadata": {},
   "source": [
    "# Ejercicios funciones\n",
    "## Ejercicio 1\n",
    "Escribe una función que convierta números del 1 al 7 en nombres de los dias de la semana. La función constará de un único argumento numérico y una salida de tipo string"
   ]
  },
  {
   "cell_type": "code",
   "execution_count": 1,
   "metadata": {},
   "outputs": [],
   "source": [
    "#Creamos la funcion dia_semana para ofrecer al usuario un imput donde tabular el número y que el programa nos devueva el dia, imprimiendolo por pantalla\n",
    "\n",
    "#Lo haremos mediante una sentencia if con cláusulas para cada uno de los dias de la semana\n",
    "\n",
    "\n",
    "def mi_funcion(weekday):\n",
    "    dia_str =(\"\")\n",
    "    #weekday = int(input(\"Introduce el dia de la semana (1-7) : \"))\n",
    "\n",
    "    if weekday == 1 :\n",
    "\n",
    "        print(\"\\nMonday\");\n",
    "\n",
    "    elif weekday == 2 :\n",
    "\n",
    "        print(\"\\nTuesday\")\n",
    "\n",
    "    elif(weekday == 3) :\n",
    "\n",
    "        print(\"\\nWednesday\")\n",
    "\n",
    "    elif(weekday == 4) :\n",
    "\n",
    "        print(\"\\nThursday\")\n",
    "\n",
    "    elif(weekday == 5) :\n",
    "\n",
    "        print(\"\\nFriday\")\n",
    "\n",
    "    elif(weekday == 6) :\n",
    "\n",
    "        print(\"\\nSaturday\")\n",
    "\n",
    "    elif (weekday == 7) :\n",
    "\n",
    "        print(\"\\nSunday\")\n",
    "\n",
    "    else :\n",
    "\n",
    "        print(\"\\nIntroduce el dia de la semana 1-7.\")"
   ]
  },
  {
   "cell_type": "code",
   "execution_count": 3,
   "metadata": {},
   "outputs": [
    {
     "ename": "SyntaxError",
     "evalue": "invalid syntax (1549775.py, line 5)",
     "output_type": "error",
     "traceback": [
      "\u001b[1;36m  File \u001b[1;32m\"C:\\Users\\plafu\\AppData\\Local\\Temp\\ipykernel_26100\\1549775.py\"\u001b[1;36m, line \u001b[1;32m5\u001b[0m\n\u001b[1;33m    elif dia_num xxxx\u001b[0m\n\u001b[1;37m                    ^\u001b[0m\n\u001b[1;31mSyntaxError\u001b[0m\u001b[1;31m:\u001b[0m invalid syntax\n"
     ]
    }
   ],
   "source": [
    "def dia_semana(dia_num):\n",
    "    str_ = \"\"\n",
    "    if dia_num == 1:\n",
    "       str_= \"Lunes\"\n",
    "    elif dia_num xxxx\n",
    "    else:\n",
    "        str_= \"No es un dia de la semana\"\n",
    "    return str_\n",
    "\n",
    "print(dia_semana(1))\n",
    "\n",
    "#completar"
   ]
  },
  {
   "cell_type": "markdown",
   "metadata": {},
   "source": [
    "## Ejercicio 2\n",
    "En el ejercicio 8 de bucles, creábamos una pirámide invertida, cuyo número de pisos venía determinado por un input del usuario. Crear una función que replique el comportamiento de la pirámide, y utiliza un único parámetro de entrada de la función para determinar el número de filas de la pirámide, es decir, elimina la sentencia input."
   ]
  },
  {
   "cell_type": "code",
   "execution_count": 5,
   "metadata": {},
   "outputs": [
    {
     "name": "stdout",
     "output_type": "stream",
     "text": [
      " 1 2 3 4\n",
      " 1 2 3\n",
      " 1 2\n",
      " 1\n",
      "None\n"
     ]
    }
   ],
   "source": [
    "def piramide(filas):\n",
    "    for i in range(filas):\n",
    "        out= \"\"\n",
    "        for j in range(filas-i):\n",
    "            out = out + \" \"+ str(j+1)\n",
    "        print(out)\n",
    "\n",
    "x= piramide(4)\n",
    "print(x)\n"
   ]
  },
  {
   "cell_type": "code",
   "execution_count": 6,
   "metadata": {},
   "outputs": [
    {
     "ename": "IndentationError",
     "evalue": "unexpected indent (965434100.py, line 9)",
     "output_type": "error",
     "traceback": [
      "\u001b[1;36m  File \u001b[1;32m\"C:\\Users\\plafu\\AppData\\Local\\Temp\\ipykernel_13340\\965434100.py\"\u001b[1;36m, line \u001b[1;32m9\u001b[0m\n\u001b[1;33m    print(\"\\n\")\u001b[0m\n\u001b[1;37m    ^\u001b[0m\n\u001b[1;31mIndentationError\u001b[0m\u001b[1;31m:\u001b[0m unexpected indent\n"
     ]
    }
   ],
   "source": [
    "#no se como abordarlo\n",
    "\n",
    "pide_filas = int(input(\"Introduce el numero de filas: \"))\n",
    "i= [1,2,3,4,5,6]\n",
    "for i in range(pide_filas, 0, -1):\n",
    "    for j in range(1, i+1):\n",
    "        print(j, end=\" \")\n",
    "    \n",
    "    print(\"\\n\")"
   ]
  },
  {
   "cell_type": "markdown",
   "metadata": {},
   "source": [
    "## Ejercicio 3\n",
    "Escibe una función que compare dos números. La función tiene dos argumentos y hay tres salidas posibles: que sean iguales, que el primero se  mayor que el segundo, o que el segundo sea mayor que el primero"
   ]
  },
  {
   "cell_type": "code",
   "execution_count": 7,
   "metadata": {},
   "outputs": [
    {
     "ename": "NameError",
     "evalue": "name 'num_a' is not defined",
     "output_type": "error",
     "traceback": [
      "\u001b[1;31m---------------------------------------------------------------------------\u001b[0m",
      "\u001b[1;31mNameError\u001b[0m                                 Traceback (most recent call last)",
      "\u001b[1;32m~\\AppData\\Local\\Temp\\ipykernel_8552\\1845970843.py\u001b[0m in \u001b[0;36m<module>\u001b[1;34m\u001b[0m\n\u001b[0;32m     14\u001b[0m         \u001b[0mprint\u001b[0m\u001b[1;33m(\u001b[0m\u001b[1;34m\"El valor de a es mayor que el de b\"\u001b[0m\u001b[1;33m)\u001b[0m\u001b[1;33m\u001b[0m\u001b[1;33m\u001b[0m\u001b[0m\n\u001b[0;32m     15\u001b[0m \u001b[1;33m\u001b[0m\u001b[0m\n\u001b[1;32m---> 16\u001b[1;33m \u001b[0mcompara_num\u001b[0m\u001b[1;33m(\u001b[0m\u001b[0mnum_a\u001b[0m\u001b[1;33m,\u001b[0m\u001b[0mnum_b\u001b[0m\u001b[1;33m)\u001b[0m \u001b[1;31m#¿Qué añadimos aqui para cerrar la función?\u001b[0m\u001b[1;33m\u001b[0m\u001b[1;33m\u001b[0m\u001b[0m\n\u001b[0m\u001b[0;32m     17\u001b[0m \u001b[1;33m\u001b[0m\u001b[0m\n\u001b[0;32m     18\u001b[0m \u001b[1;33m\u001b[0m\u001b[0m\n",
      "\u001b[1;31mNameError\u001b[0m: name 'num_a' is not defined"
     ]
    }
   ],
   "source": [
    "#Lo he planteado asi, pero no termino de entender como hacerlo.¿Como meto las clausulas bien dentro de la variable para que las entienda \n",
    "#y me las devuelva en el return? Al final no deja de ser un anidamiento,pero me cuesta verlo integrado en la variable\n",
    "\n",
    "def compara_num(num_a,num_b):\n",
    "    num_a\n",
    "    num_b\n",
    "    print(num_a)\n",
    "    print(num_b)\n",
    "    if num_a == num_b:\n",
    "        print(\"El valor es igual\")\n",
    "    elif num_a > num_b:\n",
    "        print(\"El valor de a es mayor que el de b\")\n",
    "    elif num_b > num_a:\n",
    "        print(\"El valor de a es mayor que el de b\")\n",
    "        \n",
    "compara_num(num_a,num_b) #¿Qué añadimos aqui para cerrar la función?\n",
    "    \n",
    "    \n",
    "  "
   ]
  },
  {
   "cell_type": "code",
   "execution_count": 14,
   "metadata": {},
   "outputs": [
    {
     "name": "stdout",
     "output_type": "stream",
     "text": [
      "7es mayor que5\n"
     ]
    }
   ],
   "source": [
    "#ejemplo profesor\n",
    "def compare_fun(num_1, num_2):\n",
    "    if num_1==num_2:\n",
    "        return \"Son iguales\"\n",
    "    elif num_1 > num_2:\n",
    "        return  str(num_1) + \"es mayor que\" + str(num_2)\n",
    "    else:\n",
    "        return  str(num_2) + \"es menor que\" + str(num_1)\n",
    "    \n",
    "print(compare_fun( 7 , 5))"
   ]
  },
  {
   "cell_type": "markdown",
   "metadata": {},
   "source": [
    "## Ejercicio 4\n",
    "Escribe una función que sea un contador de letras. En el primer argumento tienes que introducir un texto, y el segundo que sea la letra a contar. La función tiene que devolver un entero con el número de veces que aparece esa letra, tanto mayuscula, como minúscula"
   ]
  },
  {
   "cell_type": "markdown",
   "metadata": {},
   "source": []
  },
  {
   "cell_type": "code",
   "execution_count": 11,
   "metadata": {},
   "outputs": [
    {
     "name": "stdout",
     "output_type": "stream",
     "text": [
      "9\n",
      "Counter({' ': 14, 'r': 9, 'o': 9, 'e': 8, 'a': 6, 'n': 4, 'l': 2, 'p': 2, 'd': 2, 's': 2, 'q': 2, 'u': 2, 't': 2, 'i': 2, 'm': 2, 'E': 1, 'b': 1, ',': 1, 'z': 1, 'h': 1, 'c': 1})\n"
     ]
    }
   ],
   "source": [
    "from collections import Counter\n",
    "my_str = \"El perro de san roque no tiene rabo, porque ramon ramirez se lo ha cortado\"\n",
    "counter = Counter(my_str)\n",
    "print(counter['r'])\n",
    "\n",
    "print(counter)\n",
    "\n",
    "#collections = diccionario"
   ]
  },
  {
   "cell_type": "code",
   "execution_count": 12,
   "metadata": {},
   "outputs": [
    {
     "name": "stdout",
     "output_type": "stream",
     "text": [
      "2\n"
     ]
    }
   ],
   "source": [
    "\n",
    "#Con este ejemplo le pedimos al usuario que introduzca una clausula en el imput\n",
    "\n",
    "from collections import Counter\n",
    "my_str = (input(\"¿Introduce el refran 'El perro de san roque no tiene rabo, porque ramon ramirez se lo ha cortado?'\"))\n",
    "counter = Counter(my_str)\n",
    "print(counter['r'])\n"
   ]
  },
  {
   "cell_type": "code",
   "execution_count": 8,
   "metadata": {},
   "outputs": [
    {
     "name": "stdout",
     "output_type": "stream",
     "text": [
      "25\n"
     ]
    }
   ],
   "source": [
    "#Mediante la sentencia print imprimimos el conteo del texto determinado, que combinado con la funcion count, \n",
    "#Mediante el count indicamos el caracter en concreto \n",
    "print('il pirri di sin riqui ni tini ribi\\, pirqui rimin rimiriz si li hi quirtidi'.count('i'))"
   ]
  },
  {
   "cell_type": "code",
   "execution_count": 14,
   "metadata": {},
   "outputs": [
    {
     "ename": "SyntaxError",
     "evalue": "invalid syntax (1199501803.py, line 1)",
     "output_type": "error",
     "traceback": [
      "\u001b[1;36m  File \u001b[1;32m\"C:\\Users\\plafu\\AppData\\Local\\Temp\\ipykernel_8552\\1199501803.py\"\u001b[1;36m, line \u001b[1;32m1\u001b[0m\n\u001b[1;33m    def letter_count(texto.letra):\u001b[0m\n\u001b[1;37m                          ^\u001b[0m\n\u001b[1;31mSyntaxError\u001b[0m\u001b[1;31m:\u001b[0m invalid syntax\n"
     ]
    }
   ],
   "source": [
    "def letter_count(texto.letra):\n",
    "    texto = texto.lower()\n",
    "    letra = letra.lower()\n",
    "    return texto.count(letra)\n",
    "\n",
    "letter_count(\"En esta clase aprenderemos mucho Python\",\"c\")"
   ]
  },
  {
   "cell_type": "markdown",
   "metadata": {},
   "source": [
    "## Ejercicio 5\n",
    "Escribe una función que tenga un único argumento, un string. La salida de la función tiene que ser un diccionario con el conteo de todas las letras de ese string."
   ]
  },
  {
   "cell_type": "code",
   "execution_count": 15,
   "metadata": {},
   "outputs": [
    {
     "ename": "SyntaxError",
     "evalue": "invalid syntax (1150894570.py, line 10)",
     "output_type": "error",
     "traceback": [
      "\u001b[1;36m  File \u001b[1;32m\"C:\\Users\\plafu\\AppData\\Local\\Temp\\ipykernel_8552\\1150894570.py\"\u001b[1;36m, line \u001b[1;32m10\u001b[0m\n\u001b[1;33m    return all all_letters\u001b[0m\n\u001b[1;37m                         ^\u001b[0m\n\u001b[1;31mSyntaxError\u001b[0m\u001b[1;31m:\u001b[0m invalid syntax\n"
     ]
    }
   ],
   "source": [
    "def letter_count_dic(texto):\n",
    "    #Maquina\n",
    "    all_letters = {}\n",
    "\n",
    "    for i in texto.lower():\n",
    "        if i in all_letters:\n",
    "            all_letters[i]= all_letters [i]+1\n",
    "        else:\n",
    "            all_letters[i]= 1\n",
    "    return all all_letters\n",
    "\n",
    "letter_count_dic(\"Mi gata se llama Kenya\")"
   ]
  },
  {
   "cell_type": "markdown",
   "metadata": {},
   "source": [
    "## Ejercicio 6\n",
    "Escribir una función que añada o elimine elementos en una lista. La función necesita los siguientes argumentos:\n",
    "* lista: la lista donde se añadirán o eliminarán los elementos\n",
    "* comando: \"add\" o \"remove\"\n",
    "* elemento: Por defecto es None."
   ]
  },
  {
   "cell_type": "code",
   "execution_count": null,
   "metadata": {},
   "outputs": [],
   "source": [
    "def listas_program(lista,comando,elemento =None):\n",
    "\n",
    "    if comando  == \"add\" and elemento != None:\n",
    "        lista.append(elemento)\n",
    "    elif comando == \"add\" and elemento == None:\n",
    "        lista.append(9999)\n",
    "        print()\n",
    "\n",
    "# ver ejemplos de profesor\n",
    "#añadir elemento a una lista es un append\n",
    "#para eliminarlo es un remove\n",
    "\n"
   ]
  },
  {
   "cell_type": "markdown",
   "metadata": {},
   "source": [
    "## Ejercicio 7\n",
    "Crea una función que reciba un número arbitrario de palabras, y devuelva una frase completa, separando las palabras con espacios."
   ]
  },
  {
   "cell_type": "code",
   "execution_count": 16,
   "metadata": {},
   "outputs": [
    {
     "data": {
      "text/plain": [
       "'HOoa me llamo patri'"
      ]
     },
     "execution_count": 16,
     "metadata": {},
     "output_type": "execute_result"
    }
   ],
   "source": [
    "def junta_palabras(*args): #args nos da numero arbitrario de palabras #la funcion join concatena las palabras y nos concatena el elemento anterior con el resto\n",
    "    return \" \".join(args)\n",
    "\n",
    "junta_palabras(\"HOoa\",\"me\",\"llamo\",\"patri\")"
   ]
  },
  {
   "cell_type": "code",
   "execution_count": null,
   "metadata": {},
   "outputs": [],
   "source": [
    "def junta_palabras(**words): #args nos da numero arbitrario de palabras #la funcion join concatena las palabras y nos concatena el elemento anterior con el resto\n",
    "    return \" \".join(args) #con un asterisco va lista o tupla con elementos y con dos asteriscos un dciicionario con clave valor\n",
    "\n",
    "junta_palabras(\"HOoa\",\"me\",\"llamo\",\"patri\")"
   ]
  },
  {
   "cell_type": "markdown",
   "metadata": {},
   "source": [
    "## Ejercicio 8\n",
    "Escribe un programa que obtenga el enésimo número de la [serie de Fibonacci](https://es.wikipedia.org/wiki/Sucesi%C3%B3n_de_Fibonacci). Tienes que crear una función recursiva con un único argumento.\n",
    "\n",
    "```Python\n",
    "fibonacci(2) = 1\n",
    "fibonacci(4) = 3\n",
    "fibonacci(5) = 5\n",
    "fibonacci(8) = 21\n",
    "```"
   ]
  },
  {
   "cell_type": "code",
   "execution_count": 21,
   "metadata": {},
   "outputs": [
    {
     "name": "stdout",
     "output_type": "stream",
     "text": [
      "1\n",
      "1\n",
      "3\n",
      "5\n",
      "21\n"
     ]
    }
   ],
   "source": [
    "#es una funcion que se llama a si misma, recursiva es clave para usar la recursividad\n",
    "\n",
    "def fibonacci(n):\n",
    "    if n == 1 or n== 2:\n",
    "        return 1\n",
    "    elif n == 0:\n",
    "        return 0\n",
    "    else:\n",
    "        return (fibonacci(n-1) + (fibonacci(n-2)))\n",
    "\n",
    "print(fibonacci(1))\n",
    "print(fibonacci(2))\n",
    "print(fibonacci(4))\n",
    "print(fibonacci(5))\n",
    "print(fibonacci(8))\n"
   ]
  },
  {
   "cell_type": "markdown",
   "metadata": {},
   "source": [
    "## Ejercicio 9\n",
    "Define en una única celda las siguientes funciones:\n",
    "* Función que calcule el área de un cuadrado\n",
    "* Función que calcule el area de un triángulo\n",
    "* Función que calcule el área de un círculo\n",
    "\n",
    "En otra celda, calcular el area de:\n",
    "* Dos círculos de radio 10 + un triángulo de base 3 y altura 7\n",
    "* Un cuadrado de lado = 10 + 3 círculos (uno de radio = 4 y los otros dos de radio = 6) + 5 triángulos de base = 2 + altura = 4"
   ]
  },
  {
   "cell_type": "code",
   "execution_count": 22,
   "metadata": {},
   "outputs": [],
   "source": [
    "def cuadrado(lado):\n",
    "    return lado * lado\n",
    "\n",
    "def triangulo(base,altura):\n",
    "    return (base*altura/2)\n",
    "\n",
    "def circulo (radio): #hay veces que solo nos importamos funcion y no la libreria \n",
    "    import math\n",
    "    return math.pi * radio**2"
   ]
  },
  {
   "cell_type": "code",
   "execution_count": null,
   "metadata": {},
   "outputs": [],
   "source": []
  }
 ],
 "metadata": {
  "interpreter": {
   "hash": "c8fd5b8885bd234006b7573d684c8f0039d17035868eb9e6d47729eafa79c24c"
  },
  "kernelspec": {
   "display_name": "Python 3.7.4 64-bit",
   "language": "python",
   "name": "python3"
  },
  "language_info": {
   "codemirror_mode": {
    "name": "ipython",
    "version": 3
   },
   "file_extension": ".py",
   "mimetype": "text/x-python",
   "name": "python",
   "nbconvert_exporter": "python",
   "pygments_lexer": "ipython3",
   "version": "3.7.4"
  }
 },
 "nbformat": 4,
 "nbformat_minor": 4
}
