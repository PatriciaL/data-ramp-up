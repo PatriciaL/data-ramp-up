{
 "cells": [
  {
   "cell_type": "markdown",
   "metadata": {},
   "source": [
    " #PASOS A SEGUIR PARA ACTUALIZAR UN CAMBIO DESDE UN GIT EN REMOTO A NUESTRO CLONADO EN LOCAL#"
   ]
  },
  {
   "cell_type": "markdown",
   "metadata": {},
   "source": [
    "##1.Nos situamos en la carpeta del repositorio clonado, abriendola mediante el explorer de VS"
   ]
  },
  {
   "cell_type": "markdown",
   "metadata": {},
   "source": [
    "##2.Añadimos un comando git remote para ver donde estamos y cual es el origen del archivo"
   ]
  },
  {
   "cell_type": "code",
   "execution_count": 1,
   "metadata": {},
   "outputs": [
    {
     "name": "stdout",
     "output_type": "stream",
     "text": [
      "origin\thttps://github.com/sugus-labs/data-science-the-bridge (fetch)\n",
      "origin\thttps://github.com/sugus-labs/data-science-the-bridge (push)\n"
     ]
    }
   ],
   "source": [
    "!git remote -v \n"
   ]
  },
  {
   "cell_type": "markdown",
   "metadata": {},
   "source": [
    "##3.Hacemos una comprobación con git fetch que nos permite recuperar la informacion ultima del original"
   ]
  },
  {
   "cell_type": "code",
   "execution_count": 2,
   "metadata": {},
   "outputs": [
    {
     "name": "stdout",
     "output_type": "stream",
     "text": [
      "Fetching origin\n"
     ]
    },
    {
     "name": "stderr",
     "output_type": "stream",
     "text": [
      "hint: core.useBuiltinFSMonitor will be deprecated soon; use core.fsmonitor instead\n",
      "hint: Disable this message with \"git config advice.useCoreFSMonitorConfig false\"\n"
     ]
    }
   ],
   "source": [
    "!git fetch --all"
   ]
  },
  {
   "cell_type": "markdown",
   "metadata": {},
   "source": [
    "##4. Una vez que hemos comprobado con fetch realizamos un git pull para traernos los cambios del archivo"
   ]
  },
  {
   "cell_type": "code",
   "execution_count": 4,
   "metadata": {},
   "outputs": [
    {
     "name": "stdout",
     "output_type": "stream",
     "text": [
      "Already up to date.\n"
     ]
    }
   ],
   "source": [
    "!git pull \n",
    "# recibido al ejecutarlo mensaje \"Already up to date\""
   ]
  },
  {
   "cell_type": "markdown",
   "metadata": {},
   "source": [
    "##AYUDA PARA ENTENDER UNO Y OTRO STATUS##"
   ]
  },
  {
   "cell_type": "markdown",
   "metadata": {},
   "source": [
    "    **git fetch** :es el comando que hace que tu repositorio Git local se actualice con la última información que hay en el repositorio remoto, pero no hace ninguna transferencia de archivos a tu espacio de trabajo local (el código que ves en tu editor por ejemplo). Podría decirse que sirve para comprobar si hay algún cambio y traerlo a tu repositorio local.\n",
    "    \n",
    "    **git pull** : es el comando que comprueba si hay cambios en el repositorio remoto y, en caso de que los haya, se trae esos archivos a tu repositorio local y actualiza tu espacio de trabajo (tu IDE, tus archivos).\n",
    "\n",
    "     ### git pull hace un git fetch seguido de un git merge###\n",
    "\n"
   ]
  },
  {
   "cell_type": "markdown",
   "metadata": {},
   "source": [
    "![Fetch vs Pull](https://geekytheory.com/content/images/size/w1000/2021/11/git-fetch-vs-git-pull-diferencias.png)"
   ]
  }
 ],
 "metadata": {
  "interpreter": {
   "hash": "2b4b59888ef2f8c65c10359e54b45ebc702876cbe5422df84d9a9964cef46766"
  },
  "kernelspec": {
   "display_name": "Python 3.7.4 64-bit",
   "language": "python",
   "name": "python3"
  },
  "language_info": {
   "codemirror_mode": {
    "name": "ipython",
    "version": 3
   },
   "file_extension": ".py",
   "mimetype": "text/x-python",
   "name": "python",
   "nbconvert_exporter": "python",
   "pygments_lexer": "ipython3",
   "version": "3.7.4"
  },
  "orig_nbformat": 4
 },
 "nbformat": 4,
 "nbformat_minor": 2
}
