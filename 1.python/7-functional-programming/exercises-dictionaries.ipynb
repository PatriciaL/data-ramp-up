{
 "cells": [
  {
   "cell_type": "markdown",
   "metadata": {},
   "source": [
    "# Python | day 6 | dictionaries"
   ]
  },
  {
   "cell_type": "markdown",
   "metadata": {},
   "source": [
    "Dictionaries are used to store data values in key:value pairs.\n",
    "\n",
    "A dictionary is a collection which is unordered, changeable and does not allow duplicates.\n",
    "\n",
    "Dictionaries are written with curly brackets, and have keys and values:"
   ]
  },
  {
   "cell_type": "markdown",
   "metadata": {},
   "source": [
    "```python\n",
    "thisdict = {\n",
    "  \"brand\": \"Ford\",\n",
    "  \"model\": \"Mustang\",\n",
    "  \"year\": 1964\n",
    "}\n",
    "```"
   ]
  },
  {
   "cell_type": "markdown",
   "metadata": {},
   "source": [
    "https://www.w3schools.com/python/python_dictionaries.asp"
   ]
  },
  {
   "cell_type": "markdown",
   "metadata": {},
   "source": [
    "### Exercise 1. \n",
    "\n",
    "1. Create a dictionary with an integer 5 as the key and \"val\" as its value."
   ]
  },
  {
   "cell_type": "code",
   "execution_count": null,
   "metadata": {},
   "outputs": [],
   "source": [
    "thisdict = {5:'val'}  #un dicicionario simple solo va a obtener un par de par valor\n"
   ]
  },
  {
   "cell_type": "code",
   "execution_count": null,
   "metadata": {},
   "outputs": [],
   "source": [
    "class Person():\n",
    "    def __init__(self,gender):\n",
    "        self.gender = gender\n",
    "\n",
    "p = Person(\"Mujer\")\n",
    "print(p.gender)\n",
    "\n",
    "thisdict = {p.gender:{5:'val'}}  #un dicicionario simple solo va a obtener un par de par valor\n"
   ]
  },
  {
   "cell_type": "code",
   "execution_count": null,
   "metadata": {},
   "outputs": [],
   "source": [
    "dir(object) #nos muestra que tienen los objetos por defecto\n",
    "helo(object.__getattribute__)"
   ]
  },
  {
   "cell_type": "markdown",
   "metadata": {},
   "source": [
    "2. Create two lists: one that has 4 city names and another that has 4 landmarks in the city."
   ]
  },
  {
   "cell_type": "code",
   "execution_count": null,
   "metadata": {},
   "outputs": [],
   "source": [
    "cities = [\"Madrid\",\"Barcelona\",\"Gijon\",\"Mieres\"]\n",
    "land_marks= [\"Templo de Debod\",\"Torre Baro\",\"Mirador La Providencia\",\"Plaza de Requejo\"]"
   ]
  },
  {
   "cell_type": "code",
   "execution_count": null,
   "metadata": {},
   "outputs": [],
   "source": [
    "d =dict(zip(cities,land_marks)) #lo que hace es cambiar el diccionario de posicion, es la mas eficiente al ser un metodo de python optimizado\n",
    "print(d)\n",
    "\n",
    "#otra manera es hacerlo con list comprehension\n",
    "\n",
    "e= {k: v for k, v in zip(cities, land_marks)}\n",
    "print(e) #nos ayuda a definir la variable key y el value\n",
    "\n",
    "#creandolo con un bicle for\n",
    "\n",
    "f={}\n",
    "for k,v in zip(cities,land_marks):\n",
    "    f[k] = v\n",
    "print(f)"
   ]
  },
  {
   "cell_type": "markdown",
   "metadata": {},
   "source": [
    "3. Create a dictionary where the cities contained in the first list are the **keys** and the landmarks are the **values**.\n",
    "```python\n",
    "#example\n",
    "places = {\"Malaga\": \"Gibralfaro\", \n",
    "         \"Madrid\": \"Templo de Debod\",\n",
    "         \"Granada\": \"La Alcazaba\",\n",
    "         \"Barcelona\": \"Sagrada Familia\"}\n",
    "```"
   ]
  },
  {
   "cell_type": "code",
   "execution_count": null,
   "metadata": {},
   "outputs": [],
   "source": [
    "places = {\"Madrid\":\"Templo de Debod\",\n",
    "\"Barcelona\":\"Torre Baro\",\n",
    "\"Gijon\":\"Mirador La Providencia\",\n",
    "\"Mieres\":\"Plaza de Requejo\"}\n",
    "\n",
    "places = {\n",
    "    cities[0]:land_marks[0],\n",
    "}`"
   ]
  },
  {
   "cell_type": "markdown",
   "metadata": {},
   "source": [
    "4. Loop through the dictionary and print only the values of those keys starting with the letter **M**.\n",
    "\n",
    "https://realpython.com/iterate-through-dictionary-python/"
   ]
  },
  {
   "cell_type": "code",
   "execution_count": null,
   "metadata": {},
   "outputs": [],
   "source": [
    "d \n",
    "\n",
    "for i in d.keys():\n",
    "    print(i)\n",
    "    if i[0] == 'M':\n",
    "        print(i,d[i])  #estariamos llamando a valor i por ejemplo Madrid, y llamariamos al diccionario del valor i. \n",
    "\n",
    "#otra opcion seria \n",
    "\n",
    "if i.lowoer().startswith('m'):\n",
    "    print(d[i])\n",
    "\n",
    "#para hacerlo con una list comprehension\n",
    "\n",
    "x =[d[i] for i in d.keys() if i.lower.startswith('m')] #del diccionario cogeme la clave i, si en la i tiene m minuscula\n",
    "print(x)"
   ]
  },
  {
   "cell_type": "markdown",
   "metadata": {},
   "source": [
    "5. Create a function that receives two lists `list1` and `list2` by parameter and returns a dictionary with each element of `list1` as keys and the elements of `list2` as values. Call the function with the lists you have created before to return the same dictionary you've created in question 3. "
   ]
  },
  {
   "cell_type": "code",
   "execution_count": null,
   "metadata": {},
   "outputs": [],
   "source": [
    "def mix(l1, l2)\n",
    "    d = dict(zip(l1,l2))\n",
    "    return d\n",
    "\n",
    "r = mix(cities,landmarks)\n",
    "print (r)\n",
    "\n",
    "#para llamarla desde otro archivo\n",
    "\n",
    "from functions import mix\n",
    "r = mix(cities,landmarks)"
   ]
  },
  {
   "cell_type": "code",
   "execution_count": null,
   "metadata": {},
   "outputs": [],
   "source": []
  },
  {
   "cell_type": "markdown",
   "metadata": {},
   "source": [
    "### Exercise 2. "
   ]
  },
  {
   "cell_type": "markdown",
   "metadata": {},
   "source": [
    "1. Create an empty dictionary called dog."
   ]
  },
  {
   "cell_type": "code",
   "execution_count": null,
   "metadata": {},
   "outputs": [],
   "source": [
    "dog = {}"
   ]
  },
  {
   "cell_type": "markdown",
   "metadata": {},
   "source": [
    "2. Add name, color, breed, legs, age to the dog dictionary."
   ]
  },
  {
   "cell_type": "code",
   "execution_count": null,
   "metadata": {},
   "outputs": [],
   "source": [
    "dog['Name'] = Name\n",
    "color\n",
    "breed\n",
    "legs\n",
    "age"
   ]
  },
  {
   "cell_type": "markdown",
   "metadata": {},
   "source": [
    "3. Create a student dictionary and add first_name, last_name, age, skills, country, city and address as keys for the dictionary.\n"
   ]
  },
  {
   "cell_type": "code",
   "execution_count": null,
   "metadata": {},
   "outputs": [],
   "source": []
  },
  {
   "cell_type": "markdown",
   "metadata": {},
   "source": [
    "4. Get the length of the student dictionary.\n"
   ]
  },
  {
   "cell_type": "code",
   "execution_count": null,
   "metadata": {},
   "outputs": [],
   "source": []
  },
  {
   "cell_type": "markdown",
   "metadata": {},
   "source": [
    "5. Get the value of skills and check the data type, it should be a list."
   ]
  },
  {
   "cell_type": "code",
   "execution_count": null,
   "metadata": {},
   "outputs": [],
   "source": []
  },
  {
   "cell_type": "markdown",
   "metadata": {},
   "source": [
    "6. Modify the skills values by adding one or two skills."
   ]
  },
  {
   "cell_type": "code",
   "execution_count": null,
   "metadata": {},
   "outputs": [],
   "source": []
  },
  {
   "cell_type": "markdown",
   "metadata": {},
   "source": [
    "7. Get the dictionary keys as a list."
   ]
  },
  {
   "cell_type": "code",
   "execution_count": null,
   "metadata": {},
   "outputs": [],
   "source": []
  },
  {
   "cell_type": "markdown",
   "metadata": {},
   "source": [
    "8. Get the dictionary values as a list.\n"
   ]
  },
  {
   "cell_type": "code",
   "execution_count": null,
   "metadata": {},
   "outputs": [],
   "source": []
  },
  {
   "cell_type": "markdown",
   "metadata": {},
   "source": [
    "9. Change the dictionary to a list of tuples using `items()` method"
   ]
  },
  {
   "cell_type": "code",
   "execution_count": null,
   "metadata": {},
   "outputs": [],
   "source": []
  },
  {
   "cell_type": "markdown",
   "metadata": {},
   "source": [
    "10. Delete one of the items in the dictionary.\n"
   ]
  },
  {
   "cell_type": "code",
   "execution_count": null,
   "metadata": {},
   "outputs": [],
   "source": []
  },
  {
   "cell_type": "markdown",
   "metadata": {},
   "source": [
    "### Bonus Track"
   ]
  },
  {
   "cell_type": "markdown",
   "metadata": {},
   "source": [
    "**Tómate una cervecita o un zumito a tu salud.**"
   ]
  },
  {
   "cell_type": "markdown",
   "metadata": {},
   "source": [
    "!['daughter'](https://i.pinimg.com/originals/8f/35/28/8f35281e742e71be09697e7e6789b819.png)"
   ]
  },
  {
   "cell_type": "code",
   "execution_count": null,
   "metadata": {},
   "outputs": [],
   "source": []
  }
 ],
 "metadata": {
  "kernelspec": {
   "display_name": "Python 3",
   "language": "python",
   "name": "python3"
  },
  "language_info": {
   "codemirror_mode": {
    "name": "ipython",
    "version": 3
   },
   "file_extension": ".py",
   "mimetype": "text/x-python",
   "name": "python",
   "nbconvert_exporter": "python",
   "pygments_lexer": "ipython3",
   "version": "3.8.3"
  }
 },
 "nbformat": 4,
 "nbformat_minor": 2
}
