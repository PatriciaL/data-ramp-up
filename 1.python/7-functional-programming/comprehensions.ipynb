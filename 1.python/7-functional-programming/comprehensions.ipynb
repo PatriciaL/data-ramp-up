{
 "cells": [
  {
   "cell_type": "markdown",
   "metadata": {},
   "source": [
    "![imagen](./img/python.jpg)\n",
    "\n",
    "# Comprehensions\n",
    "### Autor: [Gustavo Martin Vela](https://www.linkedin.com/)\n",
    "\n",
    "La comprensión o comprehensions en Python son una de las características que una vez sabes usarlas, echarias mucho de menos si las quitaran. Se trata de un tipo de construcción que permite crear secuencias a partir de otras secuencias. Existen diferentes comprehensions soportadas:\n",
    "\n",
    "1. Comprensión de listas\n",
    "2. Comprensión de diccionarios\n",
    "3. Comprensión de sets\n",
    "4. Comprensión de generadores\n",
    "\n",
    "A continuación las explicaremos una por una. Una vez que entiendes el uso con las listas, cualquiera de las otras será entendia my fácilmente."
   ]
  },
  {
   "cell_type": "markdown",
   "metadata": {},
   "source": [
    "## 1. List comprehensions\n",
    "\n",
    "Las comprensiones de listas nos proporcionan una forma corta y concisa de crear listas.   \n",
    "Se usan con **corchetes []** y en su interior contienen una expresión seguida de un **bucle for** y cero o más **sentencias for o if**.   \n",
    "La expresión puede ser cualquier cosa que se te ocurra, lo que significa que puedes usar cualquier tipo de objetos en la lista. El resultado es una nueva lista creada tras evaluar las expresiones que haya dentro."
   ]
  },
  {
   "cell_type": "code",
   "execution_count": null,
   "metadata": {},
   "outputs": [],
   "source": [
    "input_list = [\"a\", \"b\", \"c\"]\n",
    "\n",
    "output_list = [out_exp for out_exp in input_list if out_exp == 2]"
   ]
  },
  {
   "cell_type": "markdown",
   "metadata": {},
   "source": [
    "Un ejemplo podria ser:"
   ]
  },
  {
   "cell_type": "code",
   "execution_count": 1,
   "metadata": {},
   "outputs": [
    {
     "name": "stdout",
     "output_type": "stream",
     "text": [
      "[0, 3, 6, 9, 12, 15, 18, 21, 24, 27]\n",
      "[0, 3, 6, 9, 12, 15, 18, 21, 24, 27]\n"
     ]
    }
   ],
   "source": [
    "i_lst = []\n",
    "for i in range(30):\n",
    "    if i % 3 == 0: # si el numero es divisible entre tres, lo va a meter en la lista\n",
    "        i_lst.append(i)\n",
    "\n",
    "print(i_lst)  # printame la lista\n",
    "\n",
    "#Otra manera de hacerlo es esta, mas  concisa \n",
    "\n",
    "mult_lst = [i for i in range(30) if i % 3 == 0]\n",
    "print(mult_lst)\n",
    "# Salida: [0, 3, 6, 9, 12, 15, 18, 21, 24, 27]"
   ]
  },
  {
   "cell_type": "code",
   "execution_count": 2,
   "metadata": {},
   "outputs": [
    {
     "name": "stdout",
     "output_type": "stream",
     "text": [
      "[0.0, 0.5, 1.0, 1.5, 2.0, 2.5, 3.0, 3.5, 4.0, 4.5, 5.0, 5.5, 6.0, 6.5, 7.0, 7.5, 8.0, 8.5, 9.0, 9.5, 10.0, 10.5, 11.0, 11.5, 12.0, 12.5, 13.0, 13.5, 14.0, 14.5]\n"
     ]
    }
   ],
   "source": [
    "y = [x/2 for x in range(30)]\n",
    "print(y)"
   ]
  },
  {
   "cell_type": "code",
   "execution_count": 7,
   "metadata": {},
   "outputs": [
    {
     "name": "stdout",
     "output_type": "stream",
     "text": [
      "[0, 4, 16, 36, 64, 100, 144, 196, 256, 324, 400, 484, 576, 676, 784, 900, 1024, 1156, 1296, 1444, 1600, 1764, 1936, 2116, 2304, 2500]\n"
     ]
    }
   ],
   "source": [
    "#Obten una lista de números de 0 a 50, elevados al cuadrado si son multiplos de dos \n",
    "\n",
    "y = [x**2 for x in range(51) if x % 2 ==0]\n",
    "print(y)"
   ]
  },
  {
   "cell_type": "markdown",
   "metadata": {},
   "source": [
    "Esto puede ser realmente útil para crear listas de manera rápida.   \n",
    "De hecho hay gente que las prefiere sobre el uso de la función filter.   \n",
    "Las comprensiones de listas son la mejor opción si por ejemplo quieres añadir elementos a una lista fruto de un bucle for.   "
   ]
  },
  {
   "cell_type": "code",
   "execution_count": null,
   "metadata": {},
   "outputs": [],
   "source": [
    "squared = []  #calcular el cuadrado \n",
    "for x in range(10):\n",
    "    squared.append(x**2)\n",
    "\n",
    "squared = [x**2 for x in range(10)]"
   ]
  },
  {
   "cell_type": "markdown",
   "metadata": {},
   "source": [
    "## 2. Dict comprehensions\n",
    "\n",
    "Los diccionarios se usan de una manera muy similar. Aquí vemos un ejemplo:"
   ]
  },
  {
   "cell_type": "markdown",
   "metadata": {},
   "source": [
    "Podemos combinar los valores de las llaves o keys del diccionario que sean las mismas pero en mayúsculas o minúsculas. Es decir, el contenido de “a” y “A” se juntaría."
   ]
  },
  {
   "cell_type": "code",
   "execution_count": 8,
   "metadata": {},
   "outputs": [],
   "source": [
    "#un diccionario de clave valor\n",
    "\n",
    "mcase = {'a': 10, 'b': 34, 'A': 7, 'Z': 3}\n",
    "\n",
    "mcase_frequency = {k.lower(): mcase.get(k.lower(), 0) + mcase.get(k.upper(), 0)\n",
    "    for k in mcase.keys()}\n",
    "\n",
    "# mcase_frequency == {'a': 17, 'z': 3, 'b': 34}"
   ]
  },
  {
   "cell_type": "code",
   "execution_count": 9,
   "metadata": {},
   "outputs": [
    {
     "name": "stdout",
     "output_type": "stream",
     "text": [
      "Help on built-in function get:\n",
      "\n",
      "get(key, default=None, /) method of builtins.dict instance\n",
      "    Return the value for key if key is in the dictionary, else default.\n",
      "\n"
     ]
    }
   ],
   "source": [
    "help(mcase.get)\n",
    "#el 0 de la formula anterior lo que hace es darle un valor al default"
   ]
  },
  {
   "cell_type": "markdown",
   "metadata": {},
   "source": [
    "Podemos invertir las llaves y valores de un diccionario."
   ]
  },
  {
   "cell_type": "code",
   "execution_count": null,
   "metadata": {},
   "outputs": [],
   "source": []
  },
  {
   "cell_type": "code",
   "execution_count": 10,
   "metadata": {},
   "outputs": [
    {
     "data": {
      "text/plain": [
       "{'Madrid': 'X'}"
      ]
     },
     "execution_count": 10,
     "metadata": {},
     "output_type": "execute_result"
    }
   ],
   "source": [
    "some_dict = {\"X\": \"Madrid\"}\n",
    "\n",
    "{v: k for k, v in some_dict.items()}"
   ]
  },
  {
   "cell_type": "code",
   "execution_count": 13,
   "metadata": {},
   "outputs": [
    {
     "name": "stdout",
     "output_type": "stream",
     "text": [
      "{10: 'a', 34: 'b', 7: 'A', 3: 'Z'}\n"
     ]
    }
   ],
   "source": [
    "\n",
    "#otra manera de hacerlo seria\n",
    "dic= {} #hacemos un diccionario vacio\n",
    "for k, v in mcase.items(): #iteramos sobre clave valor\n",
    "    dic[v] = k #la key se llama como el valor es igual a la k anterior que ahora mismo va a ser el valor\n",
    "print(dic)"
   ]
  },
  {
   "cell_type": "markdown",
   "metadata": {},
   "source": [
    "## 3. Set comprehensions\n",
    "\n",
    "Las comprensiones en los sets son muy similares a las listas. La única diferencia es que es necesario hacer uso de **llaves {}** en vez de corchetes."
   ]
  },
  {
   "cell_type": "code",
   "execution_count": 14,
   "metadata": {},
   "outputs": [
    {
     "name": "stdout",
     "output_type": "stream",
     "text": [
      "['A', 'B', 'A', 'D']\n",
      "{'B', 'A', 'D'}\n",
      "{1, 4}\n"
     ]
    }
   ],
   "source": [
    "#el set lo que hace es quitar valores duplicados\n",
    "lst = [\"A\",\"B\",\"A\",\"D\"]\n",
    "print(lst)\n",
    "print(set(lst))\n",
    "\n",
    "#otro ejemplo con los cuadrados\n",
    "squared = {x**2 for x in [1, 1, 2]}\n",
    "print(squared)\n",
    "# Output: {1, 4}"
   ]
  },
  {
   "cell_type": "markdown",
   "metadata": {},
   "source": [
    "## 4. Generator comprehensions\n",
    "\n",
    "Por último, tenemos los generadores. La única diferencia es que no asignan memoria para toda la lista, sino que la asignan elemento a elemento, lo que las hace mas eficientes desde el punto de vista del uso de la memoria."
   ]
  },
  {
   "cell_type": "code",
   "execution_count": 15,
   "metadata": {},
   "outputs": [
    {
     "name": "stdout",
     "output_type": "stream",
     "text": [
      "<generator object <genexpr> at 0x000001CF89648A48>\n",
      "0\n",
      "3\n",
      "6\n",
      "9\n",
      "12\n",
      "15\n",
      "18\n",
      "21\n",
      "24\n",
      "27\n"
     ]
    }
   ],
   "source": [
    "multiples_gen = (i for i in range(30) if i % 3 == 0)\n",
    "print(multiples_gen)\n",
    "# Salida: <generator object <genexpr> at 0x7fdaa8e407d8>\n",
    "for x in multiples_gen:\n",
    "  print(x)\n",
    "  # Salida numbers"
   ]
  },
  {
   "cell_type": "code",
   "execution_count": null,
   "metadata": {},
   "outputs": [],
   "source": [
    "#una lista esta ocupando en memoria todos los componentes que tienen esa lista\n",
    "#lel comando %%timeit nos va a calcular cuanto tarda en generar un rango"
   ]
  }
 ],
 "metadata": {
  "kernelspec": {
   "display_name": "Python 3",
   "language": "python",
   "name": "python3"
  },
  "language_info": {
   "codemirror_mode": {
    "name": "ipython",
    "version": 3
   },
   "file_extension": ".py",
   "mimetype": "text/x-python",
   "name": "python",
   "nbconvert_exporter": "python",
   "pygments_lexer": "ipython3",
   "version": "3.7.4"
  }
 },
 "nbformat": 4,
 "nbformat_minor": 4
}
