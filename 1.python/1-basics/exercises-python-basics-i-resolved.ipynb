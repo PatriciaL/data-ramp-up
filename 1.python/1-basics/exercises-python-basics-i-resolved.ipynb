{
 "cells": [
  {
   "cell_type": "markdown",
   "metadata": {},
   "source": [
    "![imagen](./img/ejercicios.png)"
   ]
  },
  {
   "cell_type": "markdown",
   "metadata": {},
   "source": [
    "# Ejercicios Python Basics I"
   ]
  },
  {
   "cell_type": "markdown",
   "metadata": {},
   "source": [
    "## Ejercicio 1\n",
    "Imprime por pantalla esta cita con el siguiente formato\n",
    "\n",
    "![imagen](./img/frase_Einstein.PNG)"
   ]
  },
  {
   "cell_type": "code",
   "execution_count": 1,
   "metadata": {},
   "outputs": [
    {
     "name": "stdout",
     "output_type": "stream",
     "text": [
      "¿Por qué esta magnífica tecnología científica, \n",
      "\t que ahorra trabajo y nos hace la vida más fácil, \n",
      "\t\t nos aporta tan poca felicidad? \n",
      "\t\t\n"
     ]
    }
   ],
   "source": [
    "print(\"\"\"¿Por qué esta magnífica tecnología científica, \\n\\t que ahorra trabajo y nos hace la vida más fácil, \\n\\t\\t nos aporta tan poca felicidad? \\n\\t\\t\"\"\")"
   ]
  },
  {
   "cell_type": "code",
   "execution_count": 2,
   "metadata": {},
   "outputs": [
    {
     "name": "stdout",
     "output_type": "stream",
     "text": [
      "¿Por qué esta magnífica tecnología científica,\n",
      "\tque ahorra trabajo y nos hace la vida mas fácil,\n",
      "\t\tnos aporta tan poca felicidad?\n",
      "\t\t\tLa repuesta es está, simplemente: porque aún no hemos aprendido a usarla con tino.\n",
      " \"Albert Einstein\" \n"
     ]
    }
   ],
   "source": [
    "print(\"\"\"¿Por qué esta magnífica tecnología científica,\\n\\tque ahorra trabajo y nos hace la vida mas fácil,\\n\\t\\tnos aporta tan poca felicidad?\\n\\t\\t\\tLa repuesta es está, simplemente: porque aún no hemos aprendido a usarla con tino.\\n \"Albert Einstein\" \"\"\")"
   ]
  },
  {
   "cell_type": "markdown",
   "metadata": {},
   "source": [
    "## Ejercicio 2\n",
    "1. Escribe el nombre de la calle de tu domicilio\n",
    "2. Escribe el numero de la calle en otra\n",
    "3. Población en una tercera\n",
    "4. Codigo postal en la cuarta variable\n",
    "5. Crea una quinta variable que concatene todas ellas\n",
    "6. Imprimela por pantalla"
   ]
  },
  {
   "cell_type": "code",
   "execution_count": 6,
   "metadata": {},
   "outputs": [
    {
     "name": "stdout",
     "output_type": "stream",
     "text": [
      "Las Quintanas 4 Ablaña - Mieres 33650\n"
     ]
    }
   ],
   "source": [
    "nom_calle_2 = \"Las Quintanas\"\n",
    "num_calle_2 = 4\n",
    "pobl_2 = \"Ablaña - Mieres\"\n",
    "cp_2 = 33650\n",
    "toda_mi_direccion = nom_calle_2 + \" \" +  str(num_calle_2) + \" \" + pobl_2 + \" \" + str(cp_2)\n",
    "print(toda_mi_direccion)\n"
   ]
  },
  {
   "cell_type": "code",
   "execution_count": 3,
   "metadata": {},
   "outputs": [
    {
     "name": "stdout",
     "output_type": "stream",
     "text": [
      "Castellana 24 Madrid 26774\n"
     ]
    }
   ],
   "source": [
    "nom_calle = \"Castellana\"\n",
    "num_calle = 24\n",
    "pobl = \"Madrid\"\n",
    "cp = 26774\n",
    "total = nom_calle + \" \" + str(num_calle) + \" \" + pobl + \" \" + str(cp)\n",
    "print(total)"
   ]
  },
  {
   "cell_type": "markdown",
   "metadata": {},
   "source": [
    "## Ejercicio 3\n",
    "Replica el output del ejercicio dos, pero está vez sin usar una variable intermedia que concatene todas las demas. Realiza este ejercicio en una línea, con un  único `print`"
   ]
  },
  {
   "cell_type": "code",
   "execution_count": 8,
   "metadata": {},
   "outputs": [
    {
     "name": "stdout",
     "output_type": "stream",
     "text": [
      "Las Quintanas 4 Ablaña - Mieres 33650\n"
     ]
    }
   ],
   "source": [
    "#print(nom_calle, num_calle, pobl, cp)\n",
    "print(nom_calle_2, num_calle_2, pobl_2, cp_2)"
   ]
  },
  {
   "cell_type": "markdown",
   "metadata": {},
   "source": [
    "## Ejercicio 4\n",
    "¿Qué variables están mal escritas y por qué? Realiza primero tu hipótesis y luego ejecuta las variables para comprobarlo. En ese orden :)\n",
    "\n",
    "\n",
    "1. mi_variable = \"Economía\"\n",
    "2. otra_var = \"Ejercicio\n",
    "3. True = \"Ejercicio\"\n",
    "4. mi variab1e = \"Alpha\"\n",
    "5. exec = True\n",
    "6. import = 40\n",
    "7. 81mi_variable = \"Agua\"\n",
    "8. mi_variable10 = 6"
   ]
  },
  {
   "cell_type": "markdown",
   "metadata": {},
   "source": [
    "1. Esta bien\n",
    "2. Falta una comilla\n",
    "3. No puedo usar True\n",
    "4. Espacios en las variables no puedo\n",
    "5. Esta bien\n",
    "6. Palabra reservada\n",
    "7. No puedo poner numeros delante\n",
    "8. Esta bien"
   ]
  },
  {
   "cell_type": "markdown",
   "metadata": {},
   "source": [
    "## Ejercicio 5\n",
    "Realiza un conversor de grados Celsius a Fahrenheit. El conversor tiene que recibir el input del usuario y devolver la conversión.\n",
    "\n",
    "La conversión de grados sigue la siguiente fórmula: F = (C × 9 / 5) + 32 "
   ]
  },
  {
   "cell_type": "code",
   "execution_count": 14,
   "metadata": {},
   "outputs": [
    {
     "name": "stdout",
     "output_type": "stream",
     "text": [
      "El equivalente en grados Farenheit es 95.0\n"
     ]
    }
   ],
   "source": [
    "C = input(\"Introduce los grados celsius que quieres convertir:\") #esta celda nos permite definir el input del usuario\n",
    "F = float(C) * float(9/5) + 32  #tenemos que convertir el imput en numero y cambiar la formula ligeramente\n",
    "print(\"El equivalente en grados Farenheit es\", F)  #printeamos la frase y el resultado de la formula F\n"
   ]
  },
  {
   "cell_type": "code",
   "execution_count": 9,
   "metadata": {},
   "outputs": [
    {
     "name": "stdout",
     "output_type": "stream",
     "text": [
      "El equivalente en grados Fahrenheit es 95.0\n"
     ]
    }
   ],
   "source": [
    "C = input('Introduzca grados celsius: ')\n",
    "F = 32 + float(C) * float(9/5)\n",
    "\n",
    "print(\"El equivalente en grados Fahrenheit es\", F)"
   ]
  },
  {
   "cell_type": "markdown",
   "metadata": {},
   "source": [
    "## Ejercicio 6\n",
    "Comenta en la medida de lo posible el Ejercicio 5. Será suficiente con poner al menos un comentario de línea, y otro multilínea"
   ]
  },
  {
   "cell_type": "code",
   "execution_count": 32,
   "metadata": {},
   "outputs": [
    {
     "name": "stdout",
     "output_type": "stream",
     "text": [
      "Introduzca grados celsius: 88\n",
      "El equivalente en grados Fahrenheit es 190.4\n"
     ]
    }
   ],
   "source": [
    "\"\"\"\n",
    "Calculadora de grados Fahrenheit\n",
    "\"\"\"\n",
    "C = input('Introduzca grados celsius: ') # Input del usuario\n",
    "\n",
    "# Hay que covertir los tipos para que no haya problemas\n",
    "F = 32 + float(C) * float(9/5)\n",
    "\n",
    "#imprimimos el resultado mediante la clausula print\n",
    "print(\"El equivalente en grados Fahrenheit es\", F)"
   ]
  }
 ],
 "metadata": {
  "interpreter": {
   "hash": "c8fd5b8885bd234006b7573d684c8f0039d17035868eb9e6d47729eafa79c24c"
  },
  "kernelspec": {
   "display_name": "Python 3.7.4 64-bit",
   "language": "python",
   "name": "python3"
  },
  "language_info": {
   "codemirror_mode": {
    "name": "ipython",
    "version": 3
   },
   "file_extension": ".py",
   "mimetype": "text/x-python",
   "name": "python",
   "nbconvert_exporter": "python",
   "pygments_lexer": "ipython3",
   "version": "3.7.4"
  }
 },
 "nbformat": 4,
 "nbformat_minor": 4
}
