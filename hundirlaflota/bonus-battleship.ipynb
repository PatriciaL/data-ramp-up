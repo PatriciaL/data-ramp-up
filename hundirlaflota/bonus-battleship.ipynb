{
 "cells": [
  {
   "cell_type": "markdown",
   "metadata": {},
   "source": [
    "# Ejercicio Hundir La Flota | Challenge yourself | Week 2\n",
    "## Precurso DSNov20 - The Bridge\n",
    "\n",
    "Se mantiene en español para que no se os olvide leer en español. \n",
    "Disculpen las molestias que esto pudiera ocasionarle como estudiante. "
   ]
  },
  {
   "cell_type": "markdown",
   "metadata": {},
   "source": [
    "En este ejercicio deberás programar el juego **hundir la flota** o [**batalla naval**](https://es.wikipedia.org/wiki/Batalla_naval_(juego)) "
   ]
  },
  {
   "cell_type": "markdown",
   "metadata": {},
   "source": [
    "El tablero de este juego será una matriz de 10x10 dimensiones, matriz sobre la que plamaremos el estado de cada turno. Cada matriz de información continente del estado en cada momento, se mostrará por pantalla."
   ]
  },
  {
   "cell_type": "markdown",
   "metadata": {},
   "source": [
    "![tablero](https://i.pinimg.com/474x/1c/66/ca/1c66ca8d767428dcd1c39285643f3987--yahoo-search.jpg)"
   ]
  },
  {
   "cell_type": "markdown",
   "metadata": {},
   "source": [
    "**Las reglas son las siguientes:**\n",
    "\n",
    "- Cada jugador deberá colocar en su tablero:\n",
    "    - 4 barcos tamaño 2x1. \n",
    "\n",
    "    - 3 barcos tamaño 3x1.\n",
    "\n",
    "    - 2 barcos tamaño 4x1.\n",
    "    \n",
    "    - 1 barco tamaño 5x1. \n",
    "    \n",
    "\n",
    "- En cada turno, el jugador correspondiente debe elegir una casilla de la matriz (10x10) y ambos jugadores marcarán la casilla en la matriz.\n",
    "- Si la casilla que se ha elegido es agua, será marcada como un una \"**o**\" y si la casilla que ha marcado es uno de los barcos, la casilla será marcada con una \"**x**\". \n",
    "- Los barcos han de ser mostrados con un \"__*__\" en la matriz. \n",
    "- Los espacios con agua serán mostrados como \"**~**\".\n",
    "\n",
    "Antes de que comience la partida, cada jugador deberá crear su estado inicial. El estado inicial es una configuración de la matriz con todos los barcos colocados. Para ello, el programa debería preguntar, uno a uno, dónde se quiere colocar cada barco. El estilo de pregunta, ha de ser: \n",
    "\n",
    "- Inserte la posición del barco 1 (2x1). El usuario ha de escribir si se quiere insertar en la 4a fila, en horizontal y ocupando las últimas dos columnas: `4h9:10`.\n",
    "- Inserte la posición del barco 2 (2x1). El usuario ha de escribir si se quiere insertar en la 8a fila, en horizontal y ocupando las dos primeras columnas: `8h1:2`.\n",
    "- Inserte la posición del barco 3 (5x1). Si se quiere colocar en vertical empezando por la fila 1 a la 5 y columna 8: `8v1:5`.\n",
    "\n",
    "También tendrás la opción de cargar una partida anteriormente definida en formato [JSON](https://www.w3schools.com/python/python_json.asp).\n",
    "\n",
    "Para saber quien empieza a jugar, los jugadores deberán ponerse de acuerdo para que uno de ellos sea el que llame a una función que devuelva dos valores random del 1 al 6, de tipo entero. El primer valor que se muestre por pantalla será el correspondiente al jugador que llama a la función, el segundo será el del contrincante. Quien saque un valor más alto, empieza. \n",
    "\n",
    "Además, el programa guardará el nombre de los jugadores y el histórico, es decir, todos los estados de la partida. Para ello se utilizará el formato JSON.\n",
    "\n",
    "Cuando un jugador haya creado su estado inicial, este estado también deberá ser guardado en formato JSON. Antes de que se inicie la partida, el otro jugador deberá cargar tu estado inicial y tú el suyo. El estado inicial del enemigo es el que usará tu programa para comprobar si las coordenadas que has utilizado han acertado en el blanco o no. \n",
    "\n",
    "El formato de preguntas por turno es: \n",
    "\n",
    "- `Inserte coordenadas a atacar:`. La respuesta válida será `0x8` --> fila 0, columna 8. \n",
    "\n",
    "Una vez insertada las coordenadas, deberá resultar en que aparezcan tu matriz y la matriz de estado de tu enemigo, esta última con la nueva coordenada marcada sin la flota excepto si el torpedo hubiera dado en el blanco. "
   ]
  },
  {
   "cell_type": "markdown",
   "metadata": {},
   "source": [
    "**A modo de resumen:**\n",
    "\n",
    "1. Se eligen los nombres de jugador. ¡Recuerda no dejar espacios!\n",
    "\n",
    "2. Se pregunta sobre las posiciones de tu flota. Una vez que se haya definido, el sistema debe guardar en JSON el estado de tu flota. OPCIONAL: Puedes cargar una partida a partir de un fichero JSON.\n",
    "\n",
    "3. Se carga el estado inicial de tu enemigo a partir de un fichero JSON que te habrá definido previamente. El fichero estará en una carpeta llamada \"Partidas_Batalla_Naval\". Para cargar el fichero se debe introducir la ruta o nombre del fichero. \n",
    "\n",
    "4. Cuando ambos estéis en el mismo punto y se sepa quien es el primero, se debe escribir *primero* o *segundo*. Si eres primero, el sistema empezará preguntándote las coordenadas. Si eres segundo, el sistema preguntará por las coordenadas del rival. \n",
    "\n",
    "5. Se debe mostrar por pantalla dos matrices: una matriz 10x10 que representa los puntos que has ido marcando, que no mostrará la flota del enemigo excepto si algún barco ha sido dañado, y otra a la derecha que muestre tu flota con los puntos que hayan sido atacados por parte del contrincante. \n",
    "\n",
    "6. Cuando toda la flota de uno de los dos jugadores haya sido exterminada, se mostrará el ganador de la partida. Que si has sido tú el que ha programado este juego, ya habrás ganado incluso antes de empezar a jugar. "
   ]
  },
  {
   "cell_type": "code",
   "execution_count": 1,
   "metadata": {},
   "outputs": [],
   "source": [
    "# keep calm and keep coding\n",
    "\n",
    "import pprint as pp #para el tablero\n",
    "import random       #para tirar el dado en el juego"
   ]
  },
  {
   "cell_type": "markdown",
   "metadata": {},
   "source": [
    " Ten en cuenta que lo ideal será que programes este juego en `.py` de modo que puedas ejecutar dicho programa por la terminal. "
   ]
  },
  {
   "cell_type": "code",
   "execution_count": 30,
   "metadata": {},
   "outputs": [
    {
     "name": "stdout",
     "output_type": "stream",
     "text": [
      "[['o', 'o', 'o', 'o', 'o', 'o', 'o', 'o', 'o', 'o'],\n",
      " ['o', 'o', 'o', 'o', 'o', 'o', 'o', 'o', 'o', 'o'],\n",
      " ['o', 'o', 'o', 'o', 'o', 'o', 'o', 'o', 'o', 'o'],\n",
      " ['o', 'o', 'o', 'o', 'o', 'o', 'o', 'o', 'o', 'o'],\n",
      " ['o', 'o', 'o', 'o', 'o', 'o', 'o', 'o', 'o', 'o'],\n",
      " ['o', 'o', 'o', 'o', 'o', 'o', 'o', 'o', 'o', 'o'],\n",
      " ['o', 'o', 'o', 'o', 'o', 'o', 'o', 'o', 'o', 'o'],\n",
      " ['o', 'o', 'o', 'o', 'o', 'o', 'o', 'o', 'o', 'o'],\n",
      " ['o', 'o', 'o', 'o', 'o', 'o', 'o', 'o', 'o', 'o'],\n",
      " ['o', 'o', 'o', 'o', 'o', 'o', 'o', 'o', 'o', 'o']]\n"
     ]
    }
   ],
   "source": [
    "m = [\"o\"]*10 #estamos haciendo una matriz de 10x10\n",
    "table_lst = [] #creamos una tabla lista\n",
    "\n",
    "for i in range(10):\n",
    "    table_lst.append(m) #iremos apendando las m \n",
    "pp.pprint(table_lst)"
   ]
  },
  {
   "cell_type": "markdown",
   "metadata": {},
   "source": [
    "##DEFINIMOS LAS CLASES DEL JUEGO QUE SERAN BARCO y AGUA"
   ]
  },
  {
   "cell_type": "code",
   "execution_count": 52,
   "metadata": {},
   "outputs": [],
   "source": [
    "class Boat(): \n",
    "\n",
    "    '''Definimos el tipo de dibujo que llevara el barco y una variable diccionario'''\n",
    "    \n",
    "    tipo_dibujo = \"x\"\n",
    "    tamanos_dict = { \n",
    "        2: \"S\",\n",
    "        3: \"M\",\n",
    "        4: \"L\",\n",
    "        5: \"XL\",\n",
    "    }\n",
    "\n",
    "    #Constructor de la clase\n",
    "    '''Definimos los atributos del barco que seran tamano, numero de tamaño y posicion'''\n",
    "    \n",
    "    def __init__(self, num_tamano, pos):\n",
    "            self.num_tamano = num_tamano\n",
    "            self.pos = pos\n",
    "            self.tamano = self.tamanos_dict[num_tamano]\n",
    "            self.orientacion = self.extraer_orientacion(pos)\n",
    "\n",
    "    #Metodo de la clase\n",
    "    '''Permite extraer la orientacion de donde ira colocado el barco'''\n",
    "\n",
    "    def extraer_orientacion(self, pos):\n",
    "            if \"v\" in pos.lower():\n",
    "                return \"VERTICAL\"\n",
    "            elif \"h\" in pos.lower():\n",
    "                return \"HORIZONTAL\"\n",
    "            else:\n",
    "                return \"ERROR\"\n",
    "\n",
    "\n",
    "class Water():\n",
    "\n",
    "    '''Definimos la clase water similar a la de boat pero sin una variable diccionario'''\n",
    "\n",
    "    '''Definimos el tipo de dibujo que llevara el agua'''\n",
    "    \n",
    "    tipo_dibujo = \"~\"\n",
    "\n",
    "    \n",
    "\n",
    "    #Constructor de la clase\n",
    "    '''Definimos los atributos de water que sera unicamente posicion '''\n",
    "\n",
    "    def __init__(self,pos):\n",
    "        self.pos = pos\n",
    "\n",
    "    #Metodo de la clase \n",
    "    '''Permite extraer la posicion el agua, la definiremos por los huecos que queden libres tras poner la orientacin del barco'''\n",
    "\n",
    "    def water_position(extraer_orientacion):\n",
    "        if extraer_orientacion != \"VERTICAL\" or extraer_orientacion != \"HORIZONTAL\":\n",
    "            return Water.tipo_dibujo\n",
    "\n",
    "\n",
    "\n"
   ]
  },
  {
   "cell_type": "code",
   "execution_count": 56,
   "metadata": {},
   "outputs": [
    {
     "name": "stdout",
     "output_type": "stream",
     "text": [
      "VERTICAL\n",
      "HORIZONTAL\n",
      "~\n"
     ]
    }
   ],
   "source": [
    "grande = Boat(5,\"2v2:6\")\n",
    "pequeno = Boat(2,\"2h2:6\")\n",
    "print(grande.orientacion)\n",
    "print(pequeno.orientacion)\n",
    "print(Water.tipo_dibujo)\n"
   ]
  }
 ],
 "metadata": {
  "file_extension": ".py",
  "interpreter": {
   "hash": "c8fd5b8885bd234006b7573d684c8f0039d17035868eb9e6d47729eafa79c24c"
  },
  "kernelspec": {
   "display_name": "Python 3.7.4 64-bit",
   "language": "python",
   "name": "python3"
  },
  "language_info": {
   "codemirror_mode": {
    "name": "ipython",
    "version": 3
   },
   "file_extension": ".py",
   "mimetype": "text/x-python",
   "name": "python",
   "nbconvert_exporter": "python",
   "pygments_lexer": "ipython3",
   "version": "3.7.4"
  },
  "mimetype": "text/x-python",
  "name": "python",
  "npconvert_exporter": "python",
  "pygments_lexer": "ipython3",
  "version": 3
 },
 "nbformat": 4,
 "nbformat_minor": 4
}
