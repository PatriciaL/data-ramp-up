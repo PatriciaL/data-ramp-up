{
 "cells": [
  {
   "cell_type": "markdown",
   "metadata": {},
   "source": [
    "# Getting Financial Data - Google Finance"
   ]
  },
  {
   "cell_type": "markdown",
   "metadata": {},
   "source": [
    "### Introduction:\n",
    "\n",
    "This time you will get data from a website.\n",
    "\n",
    "\n",
    "### Step 1. Import the necessary libraries"
   ]
  },
  {
   "cell_type": "code",
   "execution_count": 1,
   "metadata": {},
   "outputs": [
    {
     "name": "stdout",
     "output_type": "stream",
     "text": [
      "Collecting pandas_datareader\n",
      "  Downloading https://files.pythonhosted.org/packages/3f/16/56c9d648b503619ebe96f726b5f642b68e299b34162ed2d6faa9d7966b7d/pandas_datareader-0.10.0-py3-none-any.whl (109kB)\n",
      "Collecting lxml (from pandas_datareader)\n",
      "  Downloading https://files.pythonhosted.org/packages/bf/c7/aeaabfd91e88fdc467cf53760beea0fadc872f823d7dd5786614e70bbfdf/lxml-4.9.0-cp37-cp37m-win_amd64.whl (3.6MB)\n",
      "Requirement already satisfied: pandas>=0.23 in c:\\users\\plafu\\appdata\\local\\programs\\python\\python37\\lib\\site-packages (from pandas_datareader) (1.3.5)\n",
      "Requirement already satisfied: requests>=2.19.0 in c:\\users\\plafu\\appdata\\local\\programs\\python\\python37\\lib\\site-packages (from pandas_datareader) (2.27.1)\n",
      "Requirement already satisfied: numpy>=1.17.3; platform_machine != \"aarch64\" and platform_machine != \"arm64\" and python_version < \"3.10\" in c:\\users\\plafu\\appdata\\local\\programs\\python\\python37\\lib\\site-packages (from pandas>=0.23->pandas_datareader) (1.21.6)\n",
      "Requirement already satisfied: python-dateutil>=2.7.3 in c:\\users\\plafu\\appdata\\local\\programs\\python\\python37\\lib\\site-packages (from pandas>=0.23->pandas_datareader) (2.8.2)\n",
      "Requirement already satisfied: pytz>=2017.3 in c:\\users\\plafu\\appdata\\local\\programs\\python\\python37\\lib\\site-packages (from pandas>=0.23->pandas_datareader) (2022.1)\n",
      "Requirement already satisfied: charset-normalizer~=2.0.0; python_version >= \"3\" in c:\\users\\plafu\\appdata\\local\\programs\\python\\python37\\lib\\site-packages (from requests>=2.19.0->pandas_datareader) (2.0.12)\n",
      "Requirement already satisfied: urllib3<1.27,>=1.21.1 in c:\\users\\plafu\\appdata\\local\\programs\\python\\python37\\lib\\site-packages (from requests>=2.19.0->pandas_datareader) (1.26.9)\n",
      "Requirement already satisfied: certifi>=2017.4.17 in c:\\users\\plafu\\appdata\\local\\programs\\python\\python37\\lib\\site-packages (from requests>=2.19.0->pandas_datareader) (2022.5.18.1)\n",
      "Requirement already satisfied: idna<4,>=2.5; python_version >= \"3\" in c:\\users\\plafu\\appdata\\local\\programs\\python\\python37\\lib\\site-packages (from requests>=2.19.0->pandas_datareader) (3.3)\n",
      "Requirement already satisfied: six>=1.5 in c:\\users\\plafu\\appdata\\local\\programs\\python\\python37\\lib\\site-packages (from python-dateutil>=2.7.3->pandas>=0.23->pandas_datareader) (1.16.0)\n",
      "Installing collected packages: lxml, pandas-datareader\n",
      "Successfully installed lxml-4.9.0 pandas-datareader-0.10.0\n"
     ]
    },
    {
     "name": "stderr",
     "output_type": "stream",
     "text": [
      "You are using pip version 19.0.3, however version 22.1.2 is available.\n",
      "You should consider upgrading via the 'python -m pip install --upgrade pip' command.\n"
     ]
    }
   ],
   "source": [
    "!pip install pandas_datareader #sirve para bajarse datos "
   ]
  },
  {
   "cell_type": "code",
   "execution_count": 2,
   "metadata": {
    "collapsed": false,
    "jupyter": {
     "outputs_hidden": false
    }
   },
   "outputs": [],
   "source": [
    "import pandas as pd\n",
    "from pandas_datareader import data, wb  \n",
    "import datetime as dt"
   ]
  },
  {
   "cell_type": "markdown",
   "metadata": {},
   "source": [
    "### Step 2. Create your time range (start and end variables). The start date should be 01/01/2015 and the end should today (whatever your today is)"
   ]
  },
  {
   "cell_type": "code",
   "execution_count": 3,
   "metadata": {
    "collapsed": false,
    "jupyter": {
     "outputs_hidden": false
    }
   },
   "outputs": [
    {
     "data": {
      "text/plain": [
       "datetime.datetime(2015, 1, 1, 0, 0)"
      ]
     },
     "execution_count": 3,
     "metadata": {},
     "output_type": "execute_result"
    }
   ],
   "source": [
    "start = dt.datetime(2015, 1, 1)\n",
    "end = dt.datetime.today()\n"
   ]
  },
  {
   "cell_type": "code",
   "execution_count": 5,
   "metadata": {},
   "outputs": [
    {
     "data": {
      "text/plain": [
       "datetime.datetime(2015, 1, 1, 0, 0)"
      ]
     },
     "execution_count": 5,
     "metadata": {},
     "output_type": "execute_result"
    }
   ],
   "source": [
    "start"
   ]
  },
  {
   "cell_type": "code",
   "execution_count": 4,
   "metadata": {},
   "outputs": [
    {
     "data": {
      "text/plain": [
       "datetime.datetime(2022, 6, 11, 9, 59, 31, 713827)"
      ]
     },
     "execution_count": 4,
     "metadata": {},
     "output_type": "execute_result"
    }
   ],
   "source": [
    "end"
   ]
  },
  {
   "cell_type": "code",
   "execution_count": 6,
   "metadata": {},
   "outputs": [
    {
     "data": {
      "text/plain": [
       "datetime.datetime(2022, 6, 11, 8, 1, 13, 178903)"
      ]
     },
     "execution_count": 6,
     "metadata": {},
     "output_type": "execute_result"
    }
   ],
   "source": [
    "#nos da la hora utc del dia corriente, nos servirá para obtener el momento exacto.\n",
    "#Es muy útil en el caso de corregir mercados \n",
    "dt.datetime.utcnow()\n"
   ]
  },
  {
   "cell_type": "markdown",
   "metadata": {},
   "source": [
    "### Step 3. Select the Apple, Tesla, Twitter, IBM, LinkedIn stocks symbols and assign them to a variable called stocks"
   ]
  },
  {
   "cell_type": "code",
   "execution_count": 7,
   "metadata": {
    "collapsed": false,
    "jupyter": {
     "outputs_hidden": false
    }
   },
   "outputs": [],
   "source": [
    "stocks = ['AAPL', 'TSLA', 'IBM', 'LNKD']"
   ]
  },
  {
   "cell_type": "markdown",
   "metadata": {},
   "source": [
    "### Step 4. Read the data from google, assign to df and print it"
   ]
  },
  {
   "cell_type": "code",
   "execution_count": 9,
   "metadata": {},
   "outputs": [
    {
     "name": "stderr",
     "output_type": "stream",
     "text": [
      "c:\\Users\\plafu\\AppData\\Local\\Programs\\Python\\Python37\\lib\\site-packages\\pandas_datareader\\base.py:272: SymbolWarning: Failed to read symbol: 'LNKD', replacing with NaN.\n",
      "  warnings.warn(msg.format(sym), SymbolWarning)\n"
     ]
    },
    {
     "data": {
      "text/html": [
       "<div>\n",
       "<style scoped>\n",
       "    .dataframe tbody tr th:only-of-type {\n",
       "        vertical-align: middle;\n",
       "    }\n",
       "\n",
       "    .dataframe tbody tr th {\n",
       "        vertical-align: top;\n",
       "    }\n",
       "\n",
       "    .dataframe thead tr th {\n",
       "        text-align: left;\n",
       "    }\n",
       "\n",
       "    .dataframe thead tr:last-of-type th {\n",
       "        text-align: right;\n",
       "    }\n",
       "</style>\n",
       "<table border=\"1\" class=\"dataframe\">\n",
       "  <thead>\n",
       "    <tr>\n",
       "      <th>Attributes</th>\n",
       "      <th colspan=\"4\" halign=\"left\">Adj Close</th>\n",
       "      <th colspan=\"4\" halign=\"left\">Close</th>\n",
       "      <th colspan=\"2\" halign=\"left\">High</th>\n",
       "      <th>...</th>\n",
       "      <th colspan=\"2\" halign=\"left\">Low</th>\n",
       "      <th colspan=\"4\" halign=\"left\">Open</th>\n",
       "      <th colspan=\"4\" halign=\"left\">Volume</th>\n",
       "    </tr>\n",
       "    <tr>\n",
       "      <th>Symbols</th>\n",
       "      <th>AAPL</th>\n",
       "      <th>TSLA</th>\n",
       "      <th>IBM</th>\n",
       "      <th>LNKD</th>\n",
       "      <th>AAPL</th>\n",
       "      <th>TSLA</th>\n",
       "      <th>IBM</th>\n",
       "      <th>LNKD</th>\n",
       "      <th>AAPL</th>\n",
       "      <th>TSLA</th>\n",
       "      <th>...</th>\n",
       "      <th>IBM</th>\n",
       "      <th>LNKD</th>\n",
       "      <th>AAPL</th>\n",
       "      <th>TSLA</th>\n",
       "      <th>IBM</th>\n",
       "      <th>LNKD</th>\n",
       "      <th>AAPL</th>\n",
       "      <th>TSLA</th>\n",
       "      <th>IBM</th>\n",
       "      <th>LNKD</th>\n",
       "    </tr>\n",
       "    <tr>\n",
       "      <th>Date</th>\n",
       "      <th></th>\n",
       "      <th></th>\n",
       "      <th></th>\n",
       "      <th></th>\n",
       "      <th></th>\n",
       "      <th></th>\n",
       "      <th></th>\n",
       "      <th></th>\n",
       "      <th></th>\n",
       "      <th></th>\n",
       "      <th></th>\n",
       "      <th></th>\n",
       "      <th></th>\n",
       "      <th></th>\n",
       "      <th></th>\n",
       "      <th></th>\n",
       "      <th></th>\n",
       "      <th></th>\n",
       "      <th></th>\n",
       "      <th></th>\n",
       "      <th></th>\n",
       "    </tr>\n",
       "  </thead>\n",
       "  <tbody>\n",
       "    <tr>\n",
       "      <th>2015-01-02</th>\n",
       "      <td>24.678246</td>\n",
       "      <td>43.862000</td>\n",
       "      <td>112.178078</td>\n",
       "      <td>NaN</td>\n",
       "      <td>27.332500</td>\n",
       "      <td>43.862000</td>\n",
       "      <td>154.933075</td>\n",
       "      <td>NaN</td>\n",
       "      <td>27.860001</td>\n",
       "      <td>44.650002</td>\n",
       "      <td>...</td>\n",
       "      <td>153.919693</td>\n",
       "      <td>NaN</td>\n",
       "      <td>27.847500</td>\n",
       "      <td>44.574001</td>\n",
       "      <td>154.216064</td>\n",
       "      <td>NaN</td>\n",
       "      <td>212818400.0</td>\n",
       "      <td>23822000.0</td>\n",
       "      <td>5779673.0</td>\n",
       "      <td>NaN</td>\n",
       "    </tr>\n",
       "    <tr>\n",
       "      <th>2015-01-05</th>\n",
       "      <td>23.983023</td>\n",
       "      <td>42.018002</td>\n",
       "      <td>110.412979</td>\n",
       "      <td>NaN</td>\n",
       "      <td>26.562500</td>\n",
       "      <td>42.018002</td>\n",
       "      <td>152.495224</td>\n",
       "      <td>NaN</td>\n",
       "      <td>27.162500</td>\n",
       "      <td>43.299999</td>\n",
       "      <td>...</td>\n",
       "      <td>152.189301</td>\n",
       "      <td>NaN</td>\n",
       "      <td>27.072500</td>\n",
       "      <td>42.910000</td>\n",
       "      <td>154.177826</td>\n",
       "      <td>NaN</td>\n",
       "      <td>257142000.0</td>\n",
       "      <td>26842500.0</td>\n",
       "      <td>5104898.0</td>\n",
       "      <td>NaN</td>\n",
       "    </tr>\n",
       "    <tr>\n",
       "      <th>2015-01-06</th>\n",
       "      <td>23.985283</td>\n",
       "      <td>42.256001</td>\n",
       "      <td>108.031815</td>\n",
       "      <td>NaN</td>\n",
       "      <td>26.565001</td>\n",
       "      <td>42.256001</td>\n",
       "      <td>149.206497</td>\n",
       "      <td>NaN</td>\n",
       "      <td>26.857500</td>\n",
       "      <td>42.840000</td>\n",
       "      <td>...</td>\n",
       "      <td>148.346085</td>\n",
       "      <td>NaN</td>\n",
       "      <td>26.635000</td>\n",
       "      <td>42.012001</td>\n",
       "      <td>152.648178</td>\n",
       "      <td>NaN</td>\n",
       "      <td>263188400.0</td>\n",
       "      <td>31309500.0</td>\n",
       "      <td>6429448.0</td>\n",
       "      <td>NaN</td>\n",
       "    </tr>\n",
       "    <tr>\n",
       "      <th>2015-01-07</th>\n",
       "      <td>24.321604</td>\n",
       "      <td>42.189999</td>\n",
       "      <td>107.325737</td>\n",
       "      <td>NaN</td>\n",
       "      <td>26.937500</td>\n",
       "      <td>42.189999</td>\n",
       "      <td>148.231354</td>\n",
       "      <td>NaN</td>\n",
       "      <td>27.049999</td>\n",
       "      <td>42.956001</td>\n",
       "      <td>...</td>\n",
       "      <td>147.256210</td>\n",
       "      <td>NaN</td>\n",
       "      <td>26.799999</td>\n",
       "      <td>42.669998</td>\n",
       "      <td>150.286804</td>\n",
       "      <td>NaN</td>\n",
       "      <td>160423600.0</td>\n",
       "      <td>14842000.0</td>\n",
       "      <td>4918083.0</td>\n",
       "      <td>NaN</td>\n",
       "    </tr>\n",
       "    <tr>\n",
       "      <th>2015-01-08</th>\n",
       "      <td>25.256104</td>\n",
       "      <td>42.124001</td>\n",
       "      <td>109.658478</td>\n",
       "      <td>NaN</td>\n",
       "      <td>27.972500</td>\n",
       "      <td>42.124001</td>\n",
       "      <td>151.453156</td>\n",
       "      <td>NaN</td>\n",
       "      <td>28.037500</td>\n",
       "      <td>42.759998</td>\n",
       "      <td>...</td>\n",
       "      <td>148.709366</td>\n",
       "      <td>NaN</td>\n",
       "      <td>27.307501</td>\n",
       "      <td>42.562000</td>\n",
       "      <td>149.369019</td>\n",
       "      <td>NaN</td>\n",
       "      <td>237458000.0</td>\n",
       "      <td>17212500.0</td>\n",
       "      <td>4431693.0</td>\n",
       "      <td>NaN</td>\n",
       "    </tr>\n",
       "    <tr>\n",
       "      <th>...</th>\n",
       "      <td>...</td>\n",
       "      <td>...</td>\n",
       "      <td>...</td>\n",
       "      <td>...</td>\n",
       "      <td>...</td>\n",
       "      <td>...</td>\n",
       "      <td>...</td>\n",
       "      <td>...</td>\n",
       "      <td>...</td>\n",
       "      <td>...</td>\n",
       "      <td>...</td>\n",
       "      <td>...</td>\n",
       "      <td>...</td>\n",
       "      <td>...</td>\n",
       "      <td>...</td>\n",
       "      <td>...</td>\n",
       "      <td>...</td>\n",
       "      <td>...</td>\n",
       "      <td>...</td>\n",
       "      <td>...</td>\n",
       "      <td>...</td>\n",
       "    </tr>\n",
       "    <tr>\n",
       "      <th>2022-06-06</th>\n",
       "      <td>146.139999</td>\n",
       "      <td>714.840027</td>\n",
       "      <td>142.880005</td>\n",
       "      <td>NaN</td>\n",
       "      <td>146.139999</td>\n",
       "      <td>714.840027</td>\n",
       "      <td>142.880005</td>\n",
       "      <td>NaN</td>\n",
       "      <td>148.570007</td>\n",
       "      <td>734.599976</td>\n",
       "      <td>...</td>\n",
       "      <td>142.000000</td>\n",
       "      <td>NaN</td>\n",
       "      <td>147.029999</td>\n",
       "      <td>733.059998</td>\n",
       "      <td>142.979996</td>\n",
       "      <td>NaN</td>\n",
       "      <td>71598400.0</td>\n",
       "      <td>28068200.0</td>\n",
       "      <td>4766900.0</td>\n",
       "      <td>NaN</td>\n",
       "    </tr>\n",
       "    <tr>\n",
       "      <th>2022-06-07</th>\n",
       "      <td>148.710007</td>\n",
       "      <td>716.659973</td>\n",
       "      <td>142.779999</td>\n",
       "      <td>NaN</td>\n",
       "      <td>148.710007</td>\n",
       "      <td>716.659973</td>\n",
       "      <td>142.779999</td>\n",
       "      <td>NaN</td>\n",
       "      <td>149.000000</td>\n",
       "      <td>719.989990</td>\n",
       "      <td>...</td>\n",
       "      <td>140.960007</td>\n",
       "      <td>NaN</td>\n",
       "      <td>144.350006</td>\n",
       "      <td>702.000000</td>\n",
       "      <td>142.600006</td>\n",
       "      <td>NaN</td>\n",
       "      <td>67808200.0</td>\n",
       "      <td>24269500.0</td>\n",
       "      <td>2887100.0</td>\n",
       "      <td>NaN</td>\n",
       "    </tr>\n",
       "    <tr>\n",
       "      <th>2022-06-08</th>\n",
       "      <td>147.960007</td>\n",
       "      <td>725.599976</td>\n",
       "      <td>140.830002</td>\n",
       "      <td>NaN</td>\n",
       "      <td>147.960007</td>\n",
       "      <td>725.599976</td>\n",
       "      <td>140.830002</td>\n",
       "      <td>NaN</td>\n",
       "      <td>149.869995</td>\n",
       "      <td>749.890015</td>\n",
       "      <td>...</td>\n",
       "      <td>140.149994</td>\n",
       "      <td>NaN</td>\n",
       "      <td>148.580002</td>\n",
       "      <td>720.260010</td>\n",
       "      <td>142.070007</td>\n",
       "      <td>NaN</td>\n",
       "      <td>53950200.0</td>\n",
       "      <td>25403500.0</td>\n",
       "      <td>3005700.0</td>\n",
       "      <td>NaN</td>\n",
       "    </tr>\n",
       "    <tr>\n",
       "      <th>2022-06-09</th>\n",
       "      <td>142.639999</td>\n",
       "      <td>719.119995</td>\n",
       "      <td>137.960007</td>\n",
       "      <td>NaN</td>\n",
       "      <td>142.639999</td>\n",
       "      <td>719.119995</td>\n",
       "      <td>137.960007</td>\n",
       "      <td>NaN</td>\n",
       "      <td>147.949997</td>\n",
       "      <td>766.640015</td>\n",
       "      <td>...</td>\n",
       "      <td>137.929993</td>\n",
       "      <td>NaN</td>\n",
       "      <td>147.080002</td>\n",
       "      <td>748.020020</td>\n",
       "      <td>140.149994</td>\n",
       "      <td>NaN</td>\n",
       "      <td>69473000.0</td>\n",
       "      <td>32163800.0</td>\n",
       "      <td>3591000.0</td>\n",
       "      <td>NaN</td>\n",
       "    </tr>\n",
       "    <tr>\n",
       "      <th>2022-06-10</th>\n",
       "      <td>137.130005</td>\n",
       "      <td>696.690002</td>\n",
       "      <td>136.190002</td>\n",
       "      <td>NaN</td>\n",
       "      <td>137.130005</td>\n",
       "      <td>696.690002</td>\n",
       "      <td>136.190002</td>\n",
       "      <td>NaN</td>\n",
       "      <td>140.759995</td>\n",
       "      <td>718.500000</td>\n",
       "      <td>...</td>\n",
       "      <td>135.250000</td>\n",
       "      <td>NaN</td>\n",
       "      <td>140.279999</td>\n",
       "      <td>705.469971</td>\n",
       "      <td>137.800003</td>\n",
       "      <td>NaN</td>\n",
       "      <td>91437900.0</td>\n",
       "      <td>32512200.0</td>\n",
       "      <td>4659500.0</td>\n",
       "      <td>NaN</td>\n",
       "    </tr>\n",
       "  </tbody>\n",
       "</table>\n",
       "<p>1874 rows × 24 columns</p>\n",
       "</div>"
      ],
      "text/plain": [
       "Attributes   Adj Close                                    Close              \\\n",
       "Symbols           AAPL        TSLA         IBM LNKD        AAPL        TSLA   \n",
       "Date                                                                          \n",
       "2015-01-02   24.678246   43.862000  112.178078  NaN   27.332500   43.862000   \n",
       "2015-01-05   23.983023   42.018002  110.412979  NaN   26.562500   42.018002   \n",
       "2015-01-06   23.985283   42.256001  108.031815  NaN   26.565001   42.256001   \n",
       "2015-01-07   24.321604   42.189999  107.325737  NaN   26.937500   42.189999   \n",
       "2015-01-08   25.256104   42.124001  109.658478  NaN   27.972500   42.124001   \n",
       "...                ...         ...         ...  ...         ...         ...   \n",
       "2022-06-06  146.139999  714.840027  142.880005  NaN  146.139999  714.840027   \n",
       "2022-06-07  148.710007  716.659973  142.779999  NaN  148.710007  716.659973   \n",
       "2022-06-08  147.960007  725.599976  140.830002  NaN  147.960007  725.599976   \n",
       "2022-06-09  142.639999  719.119995  137.960007  NaN  142.639999  719.119995   \n",
       "2022-06-10  137.130005  696.690002  136.190002  NaN  137.130005  696.690002   \n",
       "\n",
       "Attributes                         High              ...         Low       \\\n",
       "Symbols            IBM LNKD        AAPL        TSLA  ...         IBM LNKD   \n",
       "Date                                                 ...                    \n",
       "2015-01-02  154.933075  NaN   27.860001   44.650002  ...  153.919693  NaN   \n",
       "2015-01-05  152.495224  NaN   27.162500   43.299999  ...  152.189301  NaN   \n",
       "2015-01-06  149.206497  NaN   26.857500   42.840000  ...  148.346085  NaN   \n",
       "2015-01-07  148.231354  NaN   27.049999   42.956001  ...  147.256210  NaN   \n",
       "2015-01-08  151.453156  NaN   28.037500   42.759998  ...  148.709366  NaN   \n",
       "...                ...  ...         ...         ...  ...         ...  ...   \n",
       "2022-06-06  142.880005  NaN  148.570007  734.599976  ...  142.000000  NaN   \n",
       "2022-06-07  142.779999  NaN  149.000000  719.989990  ...  140.960007  NaN   \n",
       "2022-06-08  140.830002  NaN  149.869995  749.890015  ...  140.149994  NaN   \n",
       "2022-06-09  137.960007  NaN  147.949997  766.640015  ...  137.929993  NaN   \n",
       "2022-06-10  136.190002  NaN  140.759995  718.500000  ...  135.250000  NaN   \n",
       "\n",
       "Attributes        Open                                    Volume              \\\n",
       "Symbols           AAPL        TSLA         IBM LNKD         AAPL        TSLA   \n",
       "Date                                                                           \n",
       "2015-01-02   27.847500   44.574001  154.216064  NaN  212818400.0  23822000.0   \n",
       "2015-01-05   27.072500   42.910000  154.177826  NaN  257142000.0  26842500.0   \n",
       "2015-01-06   26.635000   42.012001  152.648178  NaN  263188400.0  31309500.0   \n",
       "2015-01-07   26.799999   42.669998  150.286804  NaN  160423600.0  14842000.0   \n",
       "2015-01-08   27.307501   42.562000  149.369019  NaN  237458000.0  17212500.0   \n",
       "...                ...         ...         ...  ...          ...         ...   \n",
       "2022-06-06  147.029999  733.059998  142.979996  NaN   71598400.0  28068200.0   \n",
       "2022-06-07  144.350006  702.000000  142.600006  NaN   67808200.0  24269500.0   \n",
       "2022-06-08  148.580002  720.260010  142.070007  NaN   53950200.0  25403500.0   \n",
       "2022-06-09  147.080002  748.020020  140.149994  NaN   69473000.0  32163800.0   \n",
       "2022-06-10  140.279999  705.469971  137.800003  NaN   91437900.0  32512200.0   \n",
       "\n",
       "Attributes                  \n",
       "Symbols           IBM LNKD  \n",
       "Date                        \n",
       "2015-01-02  5779673.0  NaN  \n",
       "2015-01-05  5104898.0  NaN  \n",
       "2015-01-06  6429448.0  NaN  \n",
       "2015-01-07  4918083.0  NaN  \n",
       "2015-01-08  4431693.0  NaN  \n",
       "...               ...  ...  \n",
       "2022-06-06  4766900.0  NaN  \n",
       "2022-06-07  2887100.0  NaN  \n",
       "2022-06-08  3005700.0  NaN  \n",
       "2022-06-09  3591000.0  NaN  \n",
       "2022-06-10  4659500.0  NaN  \n",
       "\n",
       "[1874 rows x 24 columns]"
      ]
     },
     "execution_count": 9,
     "metadata": {},
     "output_type": "execute_result"
    }
   ],
   "source": [
    "df = data.DataReader(stocks, \"yahoo\", start, end)\n",
    "#print(df)\n",
    "df"
   ]
  },
  {
   "cell_type": "markdown",
   "metadata": {},
   "source": [
    "### Step 5.  What is the type of structure of df ?"
   ]
  },
  {
   "cell_type": "code",
   "execution_count": 7,
   "metadata": {
    "collapsed": false,
    "jupyter": {
     "outputs_hidden": false
    }
   },
   "outputs": [
    {
     "data": {
      "text/plain": [
       "pandas.core.frame.DataFrame"
      ]
     },
     "execution_count": 7,
     "metadata": {},
     "output_type": "execute_result"
    }
   ],
   "source": [
    "type(df)"
   ]
  },
  {
   "cell_type": "markdown",
   "metadata": {},
   "source": [
    "### Step 6. Print all the Items axis values\n",
    "#### To learn more about the Panel structure go to [documentation](http://pandas.pydata.org/pandas-docs/stable/dsintro.html#panel) "
   ]
  },
  {
   "cell_type": "code",
   "execution_count": 8,
   "metadata": {
    "collapsed": false,
    "jupyter": {
     "outputs_hidden": false
    }
   },
   "outputs": [
    {
     "data": {
      "text/plain": [
       "<bound method DataFrame.items of Attributes   Adj Close                                    Close              \\\n",
       "Symbols           AAPL        TSLA         IBM LNKD        AAPL        TSLA   \n",
       "Date                                                                          \n",
       "2015-01-02   24.678253   43.862000  112.178085  NaN   27.332500   43.862000   \n",
       "2015-01-05   23.983021   42.018002  110.412979  NaN   26.562500   42.018002   \n",
       "2015-01-06   23.985285   42.256001  108.031799  NaN   26.565001   42.256001   \n",
       "2015-01-07   24.321609   42.189999  107.325752  NaN   26.937500   42.189999   \n",
       "2015-01-08   25.256100   42.124001  109.658485  NaN   27.972500   42.124001   \n",
       "...                ...         ...         ...  ...         ...         ...   \n",
       "2022-06-06  146.139999  714.840027  142.880005  NaN  146.139999  714.840027   \n",
       "2022-06-07  148.710007  716.659973  142.779999  NaN  148.710007  716.659973   \n",
       "2022-06-08  147.960007  725.599976  140.830002  NaN  147.960007  725.599976   \n",
       "2022-06-09  142.639999  719.119995  137.960007  NaN  142.639999  719.119995   \n",
       "2022-06-10  138.119995  697.960022  136.914993  NaN  138.119995  697.960022   \n",
       "\n",
       "Attributes                         High              ...         Low       \\\n",
       "Symbols            IBM LNKD        AAPL        TSLA  ...         IBM LNKD   \n",
       "Date                                                 ...                    \n",
       "2015-01-02  154.933075  NaN   27.860001   44.650002  ...  153.919693  NaN   \n",
       "2015-01-05  152.495224  NaN   27.162500   43.299999  ...  152.189301  NaN   \n",
       "2015-01-06  149.206497  NaN   26.857500   42.840000  ...  148.346085  NaN   \n",
       "2015-01-07  148.231354  NaN   27.049999   42.956001  ...  147.256210  NaN   \n",
       "2015-01-08  151.453156  NaN   28.037500   42.759998  ...  148.709366  NaN   \n",
       "...                ...  ...         ...         ...  ...         ...  ...   \n",
       "2022-06-06  142.880005  NaN  148.570007  734.599976  ...  142.000000  NaN   \n",
       "2022-06-07  142.779999  NaN  149.000000  719.989990  ...  140.960007  NaN   \n",
       "2022-06-08  140.830002  NaN  149.869995  749.890015  ...  140.149994  NaN   \n",
       "2022-06-09  137.960007  NaN  147.949997  766.640015  ...  137.929993  NaN   \n",
       "2022-06-10  136.914993  NaN  140.759995  718.500000  ...  135.259995  NaN   \n",
       "\n",
       "Attributes        Open                                    Volume              \\\n",
       "Symbols           AAPL        TSLA         IBM LNKD         AAPL        TSLA   \n",
       "Date                                                                           \n",
       "2015-01-02   27.847500   44.574001  154.216064  NaN  212818400.0  23822000.0   \n",
       "2015-01-05   27.072500   42.910000  154.177826  NaN  257142000.0  26842500.0   \n",
       "2015-01-06   26.635000   42.012001  152.648178  NaN  263188400.0  31309500.0   \n",
       "2015-01-07   26.799999   42.669998  150.286804  NaN  160423600.0  14842000.0   \n",
       "2015-01-08   27.307501   42.562000  149.369019  NaN  237458000.0  17212500.0   \n",
       "...                ...         ...         ...  ...          ...         ...   \n",
       "2022-06-06  147.029999  733.059998  142.979996  NaN   71598400.0  28068200.0   \n",
       "2022-06-07  144.350006  702.000000  142.600006  NaN   67808200.0  24269500.0   \n",
       "2022-06-08  148.580002  720.260010  142.070007  NaN   53950200.0  25403500.0   \n",
       "2022-06-09  147.080002  748.020020  140.149994  NaN   69473000.0  32163800.0   \n",
       "2022-06-10  140.279999  705.469971  137.800003  NaN   71303967.0  29035643.0   \n",
       "\n",
       "Attributes                  \n",
       "Symbols           IBM LNKD  \n",
       "Date                        \n",
       "2015-01-02  5779673.0  NaN  \n",
       "2015-01-05  5104898.0  NaN  \n",
       "2015-01-06  6429448.0  NaN  \n",
       "2015-01-07  4918083.0  NaN  \n",
       "2015-01-08  4431693.0  NaN  \n",
       "...               ...  ...  \n",
       "2022-06-06  4766900.0  NaN  \n",
       "2022-06-07  2887100.0  NaN  \n",
       "2022-06-08  3005700.0  NaN  \n",
       "2022-06-09  3591000.0  NaN  \n",
       "2022-06-10  3413844.0  NaN  \n",
       "\n",
       "[1874 rows x 24 columns]>"
      ]
     },
     "execution_count": 8,
     "metadata": {},
     "output_type": "execute_result"
    }
   ],
   "source": [
    "df.items #nos da los items"
   ]
  },
  {
   "cell_type": "markdown",
   "metadata": {},
   "source": [
    "### Step 7. Good, now we know  the data avaiable. Create a dataFrame called vol, with the Volume values."
   ]
  },
  {
   "cell_type": "code",
   "execution_count": 16,
   "metadata": {
    "collapsed": false,
    "jupyter": {
     "outputs_hidden": false
    }
   },
   "outputs": [
    {
     "data": {
      "text/html": [
       "<div>\n",
       "<style scoped>\n",
       "    .dataframe tbody tr th:only-of-type {\n",
       "        vertical-align: middle;\n",
       "    }\n",
       "\n",
       "    .dataframe tbody tr th {\n",
       "        vertical-align: top;\n",
       "    }\n",
       "\n",
       "    .dataframe thead th {\n",
       "        text-align: right;\n",
       "    }\n",
       "</style>\n",
       "<table border=\"1\" class=\"dataframe\">\n",
       "  <thead>\n",
       "    <tr style=\"text-align: right;\">\n",
       "      <th>Symbols</th>\n",
       "      <th>AAPL</th>\n",
       "      <th>TSLA</th>\n",
       "      <th>IBM</th>\n",
       "      <th>LNKD</th>\n",
       "    </tr>\n",
       "    <tr>\n",
       "      <th>Date</th>\n",
       "      <th></th>\n",
       "      <th></th>\n",
       "      <th></th>\n",
       "      <th></th>\n",
       "    </tr>\n",
       "  </thead>\n",
       "  <tbody>\n",
       "    <tr>\n",
       "      <th>2015-01-02</th>\n",
       "      <td>212818400.0</td>\n",
       "      <td>23822000.0</td>\n",
       "      <td>5779673.0</td>\n",
       "      <td>NaN</td>\n",
       "    </tr>\n",
       "    <tr>\n",
       "      <th>2015-01-05</th>\n",
       "      <td>257142000.0</td>\n",
       "      <td>26842500.0</td>\n",
       "      <td>5104898.0</td>\n",
       "      <td>NaN</td>\n",
       "    </tr>\n",
       "    <tr>\n",
       "      <th>2015-01-06</th>\n",
       "      <td>263188400.0</td>\n",
       "      <td>31309500.0</td>\n",
       "      <td>6429448.0</td>\n",
       "      <td>NaN</td>\n",
       "    </tr>\n",
       "    <tr>\n",
       "      <th>2015-01-07</th>\n",
       "      <td>160423600.0</td>\n",
       "      <td>14842000.0</td>\n",
       "      <td>4918083.0</td>\n",
       "      <td>NaN</td>\n",
       "    </tr>\n",
       "    <tr>\n",
       "      <th>2015-01-08</th>\n",
       "      <td>237458000.0</td>\n",
       "      <td>17212500.0</td>\n",
       "      <td>4431693.0</td>\n",
       "      <td>NaN</td>\n",
       "    </tr>\n",
       "  </tbody>\n",
       "</table>\n",
       "</div>"
      ],
      "text/plain": [
       "Symbols            AAPL        TSLA        IBM  LNKD\n",
       "Date                                                \n",
       "2015-01-02  212818400.0  23822000.0  5779673.0   NaN\n",
       "2015-01-05  257142000.0  26842500.0  5104898.0   NaN\n",
       "2015-01-06  263188400.0  31309500.0  6429448.0   NaN\n",
       "2015-01-07  160423600.0  14842000.0  4918083.0   NaN\n",
       "2015-01-08  237458000.0  17212500.0  4431693.0   NaN"
      ]
     },
     "execution_count": 16,
     "metadata": {},
     "output_type": "execute_result"
    }
   ],
   "source": [
    "vol = df['Volume'] #creamos un mini data frame de dos dimensiones \n",
    "vol.head(5)"
   ]
  },
  {
   "cell_type": "markdown",
   "metadata": {},
   "source": [
    "### Step 8. Aggregate the data of Volume to weekly\n",
    "#### Hint: Be careful to not sum data from the same week of 2015 and other years."
   ]
  },
  {
   "cell_type": "code",
   "execution_count": 12,
   "metadata": {},
   "outputs": [],
   "source": [
    "#vol.index.week #lo podemos hacer semanal\n",
    "#vol.index.year"
   ]
  },
  {
   "cell_type": "code",
   "execution_count": 17,
   "metadata": {
    "collapsed": false,
    "jupyter": {
     "outputs_hidden": false
    },
    "scrolled": true
   },
   "outputs": [
    {
     "name": "stderr",
     "output_type": "stream",
     "text": [
      "c:\\Users\\plafu\\AppData\\Local\\Programs\\Python\\Python37\\lib\\site-packages\\ipykernel_launcher.py:2: FutureWarning: weekofyear and week have been deprecated, please use DatetimeIndex.isocalendar().week instead, which returns a Series.  To exactly reproduce the behavior of week and weekofyear and return an Index, you may call pd.Int64Index(idx.isocalendar().week)\n",
      "  \n",
      "c:\\Users\\plafu\\AppData\\Local\\Programs\\Python\\Python37\\lib\\site-packages\\ipykernel_launcher.py:2: SettingWithCopyWarning: \n",
      "A value is trying to be set on a copy of a slice from a DataFrame.\n",
      "Try using .loc[row_indexer,col_indexer] = value instead\n",
      "\n",
      "See the caveats in the documentation: https://pandas.pydata.org/pandas-docs/stable/user_guide/indexing.html#returning-a-view-versus-a-copy\n",
      "  \n",
      "c:\\Users\\plafu\\AppData\\Local\\Programs\\Python\\Python37\\lib\\site-packages\\ipykernel_launcher.py:3: SettingWithCopyWarning: \n",
      "A value is trying to be set on a copy of a slice from a DataFrame.\n",
      "Try using .loc[row_indexer,col_indexer] = value instead\n",
      "\n",
      "See the caveats in the documentation: https://pandas.pydata.org/pandas-docs/stable/user_guide/indexing.html#returning-a-view-versus-a-copy\n",
      "  This is separate from the ipykernel package so we can avoid doing imports until\n"
     ]
    },
    {
     "data": {
      "text/html": [
       "<div>\n",
       "<style scoped>\n",
       "    .dataframe tbody tr th:only-of-type {\n",
       "        vertical-align: middle;\n",
       "    }\n",
       "\n",
       "    .dataframe tbody tr th {\n",
       "        vertical-align: top;\n",
       "    }\n",
       "\n",
       "    .dataframe thead th {\n",
       "        text-align: right;\n",
       "    }\n",
       "</style>\n",
       "<table border=\"1\" class=\"dataframe\">\n",
       "  <thead>\n",
       "    <tr style=\"text-align: right;\">\n",
       "      <th></th>\n",
       "      <th>Symbols</th>\n",
       "      <th>AAPL</th>\n",
       "      <th>TSLA</th>\n",
       "      <th>IBM</th>\n",
       "      <th>LNKD</th>\n",
       "    </tr>\n",
       "    <tr>\n",
       "      <th>week</th>\n",
       "      <th>year</th>\n",
       "      <th></th>\n",
       "      <th></th>\n",
       "      <th></th>\n",
       "      <th></th>\n",
       "    </tr>\n",
       "  </thead>\n",
       "  <tbody>\n",
       "    <tr>\n",
       "      <th rowspan=\"5\" valign=\"top\">1</th>\n",
       "      <th>2015</th>\n",
       "      <td>2.128184e+08</td>\n",
       "      <td>23822000.0</td>\n",
       "      <td>5779673.0</td>\n",
       "      <td>0.0</td>\n",
       "    </tr>\n",
       "    <tr>\n",
       "      <th>2016</th>\n",
       "      <td>1.375161e+09</td>\n",
       "      <td>104877000.0</td>\n",
       "      <td>26415265.0</td>\n",
       "      <td>0.0</td>\n",
       "    </tr>\n",
       "    <tr>\n",
       "      <th>2017</th>\n",
       "      <td>4.153820e+08</td>\n",
       "      <td>142882000.0</td>\n",
       "      <td>12492901.0</td>\n",
       "      <td>0.0</td>\n",
       "    </tr>\n",
       "    <tr>\n",
       "      <th>2018</th>\n",
       "      <td>5.446876e+08</td>\n",
       "      <td>148567500.0</td>\n",
       "      <td>32822330.0</td>\n",
       "      <td>0.0</td>\n",
       "    </tr>\n",
       "    <tr>\n",
       "      <th>2019</th>\n",
       "      <td>9.927560e+08</td>\n",
       "      <td>244450000.0</td>\n",
       "      <td>21924996.0</td>\n",
       "      <td>0.0</td>\n",
       "    </tr>\n",
       "  </tbody>\n",
       "</table>\n",
       "</div>"
      ],
      "text/plain": [
       "Symbols            AAPL         TSLA         IBM  LNKD\n",
       "week year                                             \n",
       "1    2015  2.128184e+08   23822000.0   5779673.0   0.0\n",
       "     2016  1.375161e+09  104877000.0  26415265.0   0.0\n",
       "     2017  4.153820e+08  142882000.0  12492901.0   0.0\n",
       "     2018  5.446876e+08  148567500.0  32822330.0   0.0\n",
       "     2019  9.927560e+08  244450000.0  21924996.0   0.0"
      ]
     },
     "execution_count": 17,
     "metadata": {},
     "output_type": "execute_result"
    }
   ],
   "source": [
    "#creamos dos nuevas columnas de año y semana\n",
    "vol['week'] = vol.index.week \n",
    "vol['year'] = vol.index.year\n",
    "\n",
    "#las agrupamos conjuntamente \n",
    "week = vol.groupby(['week','year']).sum()\n",
    "week.head()"
   ]
  },
  {
   "cell_type": "markdown",
   "metadata": {},
   "source": [
    "### Step 9. Find all the volume traded in the year of 2015"
   ]
  },
  {
   "cell_type": "code",
   "execution_count": 18,
   "metadata": {
    "collapsed": false,
    "jupyter": {
     "outputs_hidden": false
    }
   },
   "outputs": [
    {
     "name": "stderr",
     "output_type": "stream",
     "text": [
      "c:\\Users\\plafu\\AppData\\Local\\Programs\\Python\\Python37\\lib\\site-packages\\ipykernel_launcher.py:1: SettingWithCopyWarning: \n",
      "A value is trying to be set on a copy of a slice from a DataFrame.\n",
      "Try using .loc[row_indexer,col_indexer] = value instead\n",
      "\n",
      "See the caveats in the documentation: https://pandas.pydata.org/pandas-docs/stable/user_guide/indexing.html#returning-a-view-versus-a-copy\n",
      "  \"\"\"Entry point for launching an IPython kernel.\n"
     ]
    },
    {
     "data": {
      "text/plain": [
       "Symbols\n",
       "AAPL    5.226420e+10\n",
       "TSLA    5.441089e+09\n",
       "IBM     1.156439e+09\n",
       "LNKD    0.000000e+00\n",
       "week    6.886000e+03\n",
       "Name: 2015, dtype: float64"
      ]
     },
     "execution_count": 18,
     "metadata": {},
     "output_type": "execute_result"
    }
   ],
   "source": [
    "vol['year'] = vol.index.year\n",
    "\n",
    "year = vol.groupby(['year']).sum().loc[2015]\n",
    "year"
   ]
  },
  {
   "cell_type": "code",
   "execution_count": 19,
   "metadata": {},
   "outputs": [
    {
     "data": {
      "text/plain": [
       "Symbols\n",
       "AAPL    5.226420e+10\n",
       "TSLA    5.441089e+09\n",
       "IBM     1.156439e+09\n",
       "LNKD    0.000000e+00\n",
       "week    6.886000e+03\n",
       "year    5.077800e+05\n",
       "dtype: float64"
      ]
     },
     "execution_count": 19,
     "metadata": {},
     "output_type": "execute_result"
    }
   ],
   "source": [
    "#otra manera de hacerlo más sencilla\n",
    "\n",
    "vol.loc[\"2015\"].sum()\n"
   ]
  }
 ],
 "metadata": {
  "interpreter": {
   "hash": "c8fd5b8885bd234006b7573d684c8f0039d17035868eb9e6d47729eafa79c24c"
  },
  "kernelspec": {
   "display_name": "Python 3.7.4 64-bit",
   "language": "python",
   "name": "python3"
  },
  "language_info": {
   "codemirror_mode": {
    "name": "ipython",
    "version": 3
   },
   "file_extension": ".py",
   "mimetype": "text/x-python",
   "name": "python",
   "nbconvert_exporter": "python",
   "pygments_lexer": "ipython3",
   "version": "3.7.4"
  }
 },
 "nbformat": 4,
 "nbformat_minor": 4
}
